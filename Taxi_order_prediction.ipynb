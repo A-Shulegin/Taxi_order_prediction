{
 "cells": [
  {
   "cell_type": "markdown",
   "metadata": {
    "toc": true
   },
   "source": [
    "<h1>Содержание<span class=\"tocSkip\"></span></h1>\n",
    "<div class=\"toc\"><ul class=\"toc-item\"><li><span><a href=\"#Подготовка\" data-toc-modified-id=\"Подготовка-1\"><span class=\"toc-item-num\">1&nbsp;&nbsp;</span>Подготовка</a></span></li><li><span><a href=\"#Анализ\" data-toc-modified-id=\"Анализ-2\"><span class=\"toc-item-num\">2&nbsp;&nbsp;</span>Анализ</a></span></li><li><span><a href=\"#Обучение\" data-toc-modified-id=\"Обучение-3\"><span class=\"toc-item-num\">3&nbsp;&nbsp;</span>Обучение</a></span></li><li><span><a href=\"#Тестирование\" data-toc-modified-id=\"Тестирование-4\"><span class=\"toc-item-num\">4&nbsp;&nbsp;</span>Тестирование</a></span></li><li><span><a href=\"#Подготовка\" data-toc-modified-id=\"Подготовка-5\"><span class=\"toc-item-num\">5&nbsp;&nbsp;</span>Подготовка</a></span></li><li><span><a href=\"#Анализ\" data-toc-modified-id=\"Анализ-6\"><span class=\"toc-item-num\">6&nbsp;&nbsp;</span>Анализ</a></span></li><li><span><a href=\"#Обучение\" data-toc-modified-id=\"Обучение-7\"><span class=\"toc-item-num\">7&nbsp;&nbsp;</span>Обучение</a></span></li><li><span><a href=\"#Тестирование\" data-toc-modified-id=\"Тестирование-8\"><span class=\"toc-item-num\">8&nbsp;&nbsp;</span>Тестирование</a></span></li><li><span><a href=\"#Чек-лист-проверки\" data-toc-modified-id=\"Чек-лист-проверки-9\"><span class=\"toc-item-num\">9&nbsp;&nbsp;</span>Чек-лист проверки</a></span></li></ul></div>"
   ]
  },
  {
   "cell_type": "markdown",
   "metadata": {},
   "source": [
    "#  Прогнозирование заказов такси"
   ]
  },
  {
   "cell_type": "markdown",
   "metadata": {},
   "source": [
    "Компания собрала исторические данные о заказах такси в аэропортах. Чтобы привлекать больше водителей в период пиковой нагрузки, нужно спрогнозировать количество заказов такси на следующий час. Необходимо построить модель для такого предсказания.\n",
    "\n",
    "Значение метрики *RMSE* на тестовой выборке должно быть не больше 48.\n",
    "\n",
    "Нужно:\n",
    "\n",
    "1. Загрузить данные и выполнить их ресемплирование по одному часу.\n",
    "2. Проанализировать данные.\n",
    "3. Обучить разные модели с различными гиперпараметрами. Сделать тестовую выборку размером 10% от исходных данных.\n",
    "4. Проверить данные на тестовой выборке и сделать выводы.\n",
    "\n",
    "\n",
    "Данные лежат в файле `taxi.csv`. Количество заказов находится в столбце `num_orders` (от англ. *number of orders*, «число заказов»)."
   ]
  },
  {
   "cell_type": "markdown",
   "metadata": {},
   "source": [
    "## Подготовка"
   ]
  },
  {
   "cell_type": "code",
   "execution_count": 1,
   "metadata": {},
   "outputs": [],
   "source": [
    "import pandas as pd\n",
    "import numpy as np\n",
    "from matplotlib import pyplot as plt\n",
    "from sklearn.model_selection import train_test_split\n",
    "from statsmodels.tsa.seasonal import seasonal_decompose\n",
    "from catboost import CatBoostRegressor\n",
    "from sklearn.dummy import DummyRegressor\n",
    "from sklearn.ensemble import RandomForestRegressor\n",
    "from sklearn.linear_model import LinearRegression\n",
    "from sklearn.metrics import mean_squared_error\n",
    "from sklearn.preprocessing import StandardScaler\n",
    "\n",
    "plt.rcParams[\"figure.figsize\"] = (15,10)"
   ]
  },
  {
   "cell_type": "code",
   "execution_count": 2,
   "metadata": {},
   "outputs": [],
   "source": [
    "data = pd.read_csv('/datasets/taxi.csv', index_col=[0], parse_dates=[0])"
   ]
  },
  {
   "cell_type": "code",
   "execution_count": 3,
   "metadata": {
    "scrolled": true
   },
   "outputs": [
    {
     "data": {
      "text/html": [
       "<div>\n",
       "<style scoped>\n",
       "    .dataframe tbody tr th:only-of-type {\n",
       "        vertical-align: middle;\n",
       "    }\n",
       "\n",
       "    .dataframe tbody tr th {\n",
       "        vertical-align: top;\n",
       "    }\n",
       "\n",
       "    .dataframe thead th {\n",
       "        text-align: right;\n",
       "    }\n",
       "</style>\n",
       "<table border=\"1\" class=\"dataframe\">\n",
       "  <thead>\n",
       "    <tr style=\"text-align: right;\">\n",
       "      <th></th>\n",
       "      <th>num_orders</th>\n",
       "    </tr>\n",
       "    <tr>\n",
       "      <th>datetime</th>\n",
       "      <th></th>\n",
       "    </tr>\n",
       "  </thead>\n",
       "  <tbody>\n",
       "    <tr>\n",
       "      <th>2018-03-01 00:00:00</th>\n",
       "      <td>9</td>\n",
       "    </tr>\n",
       "    <tr>\n",
       "      <th>2018-03-01 00:10:00</th>\n",
       "      <td>14</td>\n",
       "    </tr>\n",
       "    <tr>\n",
       "      <th>2018-03-01 00:20:00</th>\n",
       "      <td>28</td>\n",
       "    </tr>\n",
       "    <tr>\n",
       "      <th>2018-03-01 00:30:00</th>\n",
       "      <td>20</td>\n",
       "    </tr>\n",
       "    <tr>\n",
       "      <th>2018-03-01 00:40:00</th>\n",
       "      <td>32</td>\n",
       "    </tr>\n",
       "  </tbody>\n",
       "</table>\n",
       "</div>"
      ],
      "text/plain": [
       "                     num_orders\n",
       "datetime                       \n",
       "2018-03-01 00:00:00           9\n",
       "2018-03-01 00:10:00          14\n",
       "2018-03-01 00:20:00          28\n",
       "2018-03-01 00:30:00          20\n",
       "2018-03-01 00:40:00          32"
      ]
     },
     "execution_count": 3,
     "metadata": {},
     "output_type": "execute_result"
    }
   ],
   "source": [
    "data.head()"
   ]
  },
  {
   "cell_type": "code",
   "execution_count": 4,
   "metadata": {},
   "outputs": [],
   "source": [
    "data.sort_index(inplace=True)\n",
    "resampled_daily = data.copy()\n",
    "resampled_daily = resampled_daily.resample('1D').sum()\n",
    "data = data.resample('1H').sum()"
   ]
  },
  {
   "cell_type": "markdown",
   "metadata": {},
   "source": [
    "        Данные выгружены в переменную data. Произведено ресемплирование по одному часу и по одному дню."
   ]
  },
  {
   "cell_type": "markdown",
   "metadata": {},
   "source": [
    "## Анализ"
   ]
  },
  {
   "cell_type": "code",
   "execution_count": 5,
   "metadata": {},
   "outputs": [],
   "source": [
    "data['rolling_mean'] = data['num_orders'].rolling(10).mean()\n",
    "data['std'] = data['num_orders'].rolling(10).std()"
   ]
  },
  {
   "cell_type": "code",
   "execution_count": 6,
   "metadata": {
    "scrolled": false
   },
   "outputs": [
    {
     "data": {
      "image/png": "[encoded data removed]",
      "text/plain": [
       "<Figure size 1080x720 with 1 Axes>"
      ]
     },
     "metadata": {
      "needs_background": "light"
     },
     "output_type": "display_data"
    }
   ],
   "source": [
    "data.plot()\n",
    "plt.title('Количество заказов', size=14)\n",
    "plt.ylabel('Количество заказов', size=14)\n",
    "plt.xlabel('Дата', size=14)\n",
    "colors = {'Количество заказов':'blue', 'Среднее количество заказов':'orange', 'Стандартное скользящее отклонение':'green'}\n",
    "labels = list(colors.keys())\n",
    "handles = [plt.Rectangle((0,0),1,1, color=colors[label], alpha=0.75) for label in labels]\n",
    "plt.legend(handles, labels);"
   ]
  },
  {
   "cell_type": "markdown",
   "metadata": {},
   "source": [
    "        В течении всего времени количество заказов растет."
   ]
  },
  {
   "cell_type": "code",
   "execution_count": 7,
   "metadata": {
    "scrolled": false
   },
   "outputs": [
    {
     "data": {
      "image/png": "[encoded data removed]",
      "text/plain": [
       "<Figure size 1296x720 with 1 Axes>"
      ]
     },
     "metadata": {
      "needs_background": "light"
     },
     "output_type": "display_data"
    },
    {
     "data": {
      "image/png": "[encoded data removed]",
      "text/plain": [
       "<Figure size 1296x720 with 1 Axes>"
      ]
     },
     "metadata": {
      "needs_background": "light"
     },
     "output_type": "display_data"
    },
    {
     "data": {
      "image/png": "[encoded data removed]",
      "text/plain": [
       "<Figure size 1296x720 with 1 Axes>"
      ]
     },
     "metadata": {
      "needs_background": "light"
     },
     "output_type": "display_data"
    }
   ],
   "source": [
    "decomposed = seasonal_decompose(data['num_orders'])\n",
    "\n",
    "plt.figure(figsize=(18, 10))\n",
    "plt.subplot(2, 1, 1)\n",
    "plt.title('Тренд количества заказов', size=14)\n",
    "decomposed.trend.plot()\n",
    "plt.ylabel('Количество заказов', size=14)\n",
    "plt.xlabel('Дата', size=14)\n",
    "\n",
    "plt.figure(figsize=(18, 10))\n",
    "plt.subplot(2, 1, 2)\n",
    "plt.title('Сезонность количества заказов за последние 10 дней', size=14)\n",
    "decomposed.seasonal['2018-08-21':'2018-08-31'].plot()\n",
    "plt.xlabel('Дата', size=14)\n",
    "plt.ylabel('Сезонность количества заказов', size=14)\n",
    "\n",
    "plt.figure(figsize=(18, 10))\n",
    "plt.subplot(2, 1, 2)\n",
    "plt.title('Шумы количества заказов', size=14)\n",
    "decomposed.resid.plot()\n",
    "plt.xlabel('Дата', size=14)\n",
    "plt.ylabel('Размер шумов', size=14);"
   ]
  },
  {
   "cell_type": "code",
   "execution_count": 8,
   "metadata": {
    "scrolled": false
   },
   "outputs": [
    {
     "data": {
      "image/png": "[encoded data removed]",
      "text/plain": [
       "<Figure size 1080x720 with 1 Axes>"
      ]
     },
     "metadata": {
      "needs_background": "light"
     },
     "output_type": "display_data"
    }
   ],
   "source": [
    "decomposed.seasonal['2018-08-30 00:00:00':'2018-08-31 00:00:00'].plot()\n",
    "plt.title('Сезонность количества заказов в течении суток', size=14)\n",
    "plt.xlabel('Время', size=14)\n",
    "plt.ylabel('Рост количества заказов', size=14);"
   ]
  },
  {
   "cell_type": "code",
   "execution_count": 9,
   "metadata": {},
   "outputs": [],
   "source": [
    "data_shift = pd.DataFrame(data['num_orders'] - data['num_orders'].shift())\n",
    "data_shift['mean'] = data_shift['num_orders'].rolling(10).mean()\n",
    "data_shift['std'] = data_shift['num_orders'].rolling(10).std()"
   ]
  },
  {
   "cell_type": "code",
   "execution_count": 10,
   "metadata": {
    "scrolled": false
   },
   "outputs": [
    {
     "data": {
      "image/png": "[encoded data removed]",
      "text/plain": [
       "<Figure size 1080x720 with 1 Axes>"
      ]
     },
     "metadata": {
      "needs_background": "light"
     },
     "output_type": "display_data"
    }
   ],
   "source": [
    "data_shift.plot()\n",
    "plt.title('Разности временного ряда', size=14)\n",
    "plt.ylabel('Количество заказов', size=14)\n",
    "plt.xlabel('Дата', size=14)\n",
    "colors = {'num_orders':'blue', 'mean':'orange', 'std':'green'}\n",
    "labels = list(colors.keys())\n",
    "handles = [plt.Rectangle((0,0),1,1, color=colors[label], alpha=0.75) for label in labels]\n",
    "plt.legend(handles, labels);"
   ]
  },
  {
   "cell_type": "code",
   "execution_count": 11,
   "metadata": {},
   "outputs": [],
   "source": [
    "resampled_daily['rolling_mean'] = resampled_daily['num_orders'].rolling(10).mean()\n",
    "resampled_daily['std'] = resampled_daily['num_orders'].rolling(10).std()"
   ]
  },
  {
   "cell_type": "code",
   "execution_count": 12,
   "metadata": {
    "scrolled": false
   },
   "outputs": [
    {
     "data": {
      "image/png": "[encoded data removed]",
      "text/plain": [
       "<Figure size 1296x720 with 1 Axes>"
      ]
     },
     "metadata": {
      "needs_background": "light"
     },
     "output_type": "display_data"
    }
   ],
   "source": [
    "daily_decomposed = seasonal_decompose(resampled_daily['num_orders'])\n",
    "\n",
    "plt.figure(figsize=(18, 10))\n",
    "plt.subplot(2, 1, 2)\n",
    "plt.title('Сезонность количества заказов по дням', size=14)\n",
    "daily_decomposed.seasonal.plot()\n",
    "plt.xlabel('Дата', size=14)\n",
    "plt.ylabel('Сезонность количества заказов', size=14);"
   ]
  },
  {
   "cell_type": "code",
   "execution_count": 13,
   "metadata": {},
   "outputs": [
    {
     "data": {
      "image/png": "[encoded data removed]",
      "text/plain": [
       "<Figure size 1080x720 with 1 Axes>"
      ]
     },
     "metadata": {
      "needs_background": "light"
     },
     "output_type": "display_data"
    }
   ],
   "source": [
    "daily_decomposed.seasonal['2018-08-20':'2018-08-27'].plot()\n",
    "plt.xticks(ticks=daily_decomposed.seasonal['2018-08-20':'2018-08-27'].index, \n",
    "           labels=daily_decomposed.seasonal['2018-08-20':'2018-08-27'].index.day_name())\n",
    "plt.title('Сезонность количества заказов в течении недели', size=14)\n",
    "plt.xlabel('Время', size=14)\n",
    "plt.ylabel('Рост количества заказов', size=14);"
   ]
  },
  {
   "cell_type": "markdown",
   "metadata": {},
   "source": [
    "        Проанализировано количество заказов, среднее количество заказов и стандартное скользящее отклонение. Изучен тренд \n",
    "     количества заказов, построен график, по которому видно, что в течении всего времени количество заказов растет. \n",
    "     Также изучена сезонность количества заказов за последние 10 дней. График показывает ежедневную цикличность. Изучена \n",
    "     сезонность в течении дня: самое большое количество заказов с 22:00 до 3:00, а также в 17:00, меньше всего заказов в \n",
    "     период с 5:00 до 7:00. Изучены шумы на всем промежутке данных, к концу графика доля остатков возрастает, поэтому\n",
    "     возможно будет заметна разницы между метриками при обучении и тестировании. Изучена сезонность количество заказов при\n",
    "     ресемплировании данных по одному дню. Заметна цикличность: большего заказов в понедельник и пятницу, меньше всего во\n",
    "     вторник и в воскресенье."
   ]
  },
  {
   "cell_type": "markdown",
   "metadata": {},
   "source": [
    "## Обучение"
   ]
  },
  {
   "cell_type": "code",
   "execution_count": 14,
   "metadata": {},
   "outputs": [],
   "source": [
    "data = data.drop(['std', 'rolling_mean'], axis=1)"
   ]
  },
  {
   "cell_type": "code",
   "execution_count": 15,
   "metadata": {},
   "outputs": [
    {
     "data": {
      "text/html": [
       "<div>\n",
       "<style scoped>\n",
       "    .dataframe tbody tr th:only-of-type {\n",
       "        vertical-align: middle;\n",
       "    }\n",
       "\n",
       "    .dataframe tbody tr th {\n",
       "        vertical-align: top;\n",
       "    }\n",
       "\n",
       "    .dataframe thead th {\n",
       "        text-align: right;\n",
       "    }\n",
       "</style>\n",
       "<table border=\"1\" class=\"dataframe\">\n",
       "  <thead>\n",
       "    <tr style=\"text-align: right;\">\n",
       "      <th></th>\n",
       "      <th>num_orders</th>\n",
       "    </tr>\n",
       "    <tr>\n",
       "      <th>datetime</th>\n",
       "      <th></th>\n",
       "    </tr>\n",
       "  </thead>\n",
       "  <tbody>\n",
       "    <tr>\n",
       "      <th>2018-03-01 00:00:00</th>\n",
       "      <td>124</td>\n",
       "    </tr>\n",
       "    <tr>\n",
       "      <th>2018-03-01 01:00:00</th>\n",
       "      <td>85</td>\n",
       "    </tr>\n",
       "    <tr>\n",
       "      <th>2018-03-01 02:00:00</th>\n",
       "      <td>71</td>\n",
       "    </tr>\n",
       "    <tr>\n",
       "      <th>2018-03-01 03:00:00</th>\n",
       "      <td>66</td>\n",
       "    </tr>\n",
       "    <tr>\n",
       "      <th>2018-03-01 04:00:00</th>\n",
       "      <td>43</td>\n",
       "    </tr>\n",
       "  </tbody>\n",
       "</table>\n",
       "</div>"
      ],
      "text/plain": [
       "                     num_orders\n",
       "datetime                       \n",
       "2018-03-01 00:00:00         124\n",
       "2018-03-01 01:00:00          85\n",
       "2018-03-01 02:00:00          71\n",
       "2018-03-01 03:00:00          66\n",
       "2018-03-01 04:00:00          43"
      ]
     },
     "execution_count": 15,
     "metadata": {},
     "output_type": "execute_result"
    }
   ],
   "source": [
    "data.head()"
   ]
  },
  {
   "cell_type": "code",
   "execution_count": 16,
   "metadata": {},
   "outputs": [],
   "source": [
    "data['day'] = data.index.day\n",
    "data['dayofweek'] = data.index.dayofweek\n",
    "data['hour'] = data.index.hour\n",
    "\n",
    "for lag in range(1, 175):\n",
    "    data['lag_{}'.format(lag)] = data['num_orders'].shift(175)\n",
    "\n",
    "data['rolling_mean'] = data['num_orders'].shift().rolling(50).mean()\n",
    "data = data.dropna()"
   ]
  },
  {
   "cell_type": "code",
   "execution_count": 17,
   "metadata": {},
   "outputs": [
    {
     "name": "stdout",
     "output_type": "stream",
     "text": [
      "Размеры и размерности выборок: (3392, 178) (424, 178) (425, 178)\n"
     ]
    }
   ],
   "source": [
    "features = data.drop('num_orders', axis=1)\n",
    "target = data['num_orders']\n",
    "\n",
    "features_train, features_test, target_train, target_test = train_test_split(\n",
    "    features, target, test_size=0.1, shuffle=False, random_state=12345)\n",
    "features_train, features_valid, target_train, target_valid = train_test_split(\n",
    "    features_train, target_train, test_size=(1/9), shuffle=False, random_state=12345)\n",
    "\n",
    "print('Размеры и размерности выборок:', features_train.shape, features_valid.shape, features_test.shape)"
   ]
  },
  {
   "cell_type": "code",
   "execution_count": 18,
   "metadata": {
    "scrolled": false
   },
   "outputs": [
    {
     "name": "stdout",
     "output_type": "stream",
     "text": [
      "Значение RMSE для модели LinearRegression: 46.1\n",
      "CPU times: user 437 ms, sys: 1.12 s, total: 1.56 s\n",
      "Wall time: 1.54 s\n"
     ]
    }
   ],
   "source": [
    "%%time\n",
    "model = LinearRegression()\n",
    "model.fit(features_train, target_train)\n",
    "\n",
    "predict = model.predict(features_valid)\n",
    "rmse = mean_squared_error(target_valid, predict)**0.5\n",
    "\n",
    "print(f'Значение RMSE для модели LinearRegression: {rmse:.1f}')"
   ]
  },
  {
   "cell_type": "code",
   "execution_count": 19,
   "metadata": {},
   "outputs": [
    {
     "data": {
      "image/png": "[encoded data removed]",
      "text/plain": [
       "<Figure size 1332x432 with 1 Axes>"
      ]
     },
     "metadata": {
      "needs_background": "light"
     },
     "output_type": "display_data"
    }
   ],
   "source": [
    "# Код ревьюера\n",
    "from statsmodels.graphics import tsaplots\n",
    "\n",
    "taxi = pd.read_csv(\"/datasets/taxi.csv\", index_col=[0], parse_dates=[0]).resample('1H').sum()\n",
    "ts = taxi['num_orders']\n",
    "\n",
    "fig = tsaplots.plot_acf(ts,lags= 190)\n",
    "fig.set_size_inches(18.5, 6)\n",
    "plt.ylim(-.1, 1.1)\n",
    "plt.show() \n"
   ]
  },
  {
   "cell_type": "code",
   "execution_count": 20,
   "metadata": {
    "scrolled": false
   },
   "outputs": [
    {
     "name": "stdout",
     "output_type": "stream",
     "text": [
      "Глубина: None Количество итераций: 300 Значение RMSE: 56.9\n",
      "Глубина: None Количество итераций: 350 Значение RMSE: 56.6\n",
      "Глубина: None Количество итераций: 400 Значение RMSE: 56.6\n",
      "Глубина: None Количество итераций: 450 Значение RMSE: 56.8\n",
      "Глубина: 2 Количество итераций: 300 Значение RMSE: 58.7\n",
      "Глубина: 2 Количество итераций: 350 Значение RMSE: 59.8\n",
      "Глубина: 2 Количество итераций: 400 Значение RMSE: 60.1\n",
      "Глубина: 2 Количество итераций: 450 Значение RMSE: 59.8\n",
      "Глубина: 3 Количество итераций: 300 Значение RMSE: 60.7\n",
      "Глубина: 3 Количество итераций: 350 Значение RMSE: 60.3\n",
      "Глубина: 3 Количество итераций: 400 Значение RMSE: 60.9\n",
      "Глубина: 3 Количество итераций: 450 Значение RMSE: 60.3\n",
      "Глубина: 4 Количество итераций: 300 Значение RMSE: 59.0\n",
      "Глубина: 4 Количество итераций: 350 Значение RMSE: 58.4\n",
      "Глубина: 4 Количество итераций: 400 Значение RMSE: 59.1\n",
      "Глубина: 4 Количество итераций: 450 Значение RMSE: 58.9\n",
      "Глубина: 5 Количество итераций: 300 Значение RMSE: 59.0\n",
      "Глубина: 5 Количество итераций: 350 Значение RMSE: 58.8\n",
      "Глубина: 5 Количество итераций: 400 Значение RMSE: 58.0\n",
      "Глубина: 5 Количество итераций: 450 Значение RMSE: 58.2\n",
      "Глубина: 6 Количество итераций: 300 Значение RMSE: 56.9\n",
      "Глубина: 6 Количество итераций: 350 Значение RMSE: 56.6\n",
      "Глубина: 6 Количество итераций: 400 Значение RMSE: 56.6\n",
      "Глубина: 6 Количество итераций: 450 Значение RMSE: 56.8\n",
      "Лучшая глубина: 6 Лучшее количество итераций: 400 Лучшее значение RMSE: 56.6\n",
      "CPU times: user 3min 32s, sys: 2.43 s, total: 3min 34s\n",
      "Wall time: 4min\n"
     ]
    }
   ],
   "source": [
    "%%time\n",
    "best_rmse = 150\n",
    "for depth in [None] + [i for i in range(2, 7)]:\n",
    "    for iterations in range(300, 500, 50):\n",
    "        model = CatBoostRegressor(depth=depth, learning_rate=0.2, iterations=iterations, silent=True, random_state=12345)\n",
    "        model.fit(features_train, target_train)\n",
    "        predict = model.predict(features_test)\n",
    "        rmse = mean_squared_error(target_test, predict)**0.5\n",
    "        if rmse <= best_rmse:\n",
    "            best_depth = depth\n",
    "            best_iterations = iterations\n",
    "            best_rmse = rmse\n",
    "        print(f'Глубина: {depth} Количество итераций: {iterations} Значение RMSE: {rmse:.1f}')\n",
    "print(f'Лучшая глубина: {best_depth} Лучшее количество итераций: {best_iterations} Лучшее значение RMSE: {best_rmse:.1f}')"
   ]
  },
  {
   "cell_type": "code",
   "execution_count": 21,
   "metadata": {
    "scrolled": true
   },
   "outputs": [
    {
     "name": "stdout",
     "output_type": "stream",
     "text": [
      "Глубина: None Количество деревьев: 40 Значение RMSE: 34.9\n",
      "Глубина: None Количество деревьев: 50 Значение RMSE: 35.1\n",
      "Глубина: None Количество деревьев: 60 Значение RMSE: 35.0\n",
      "Глубина: 2 Количество деревьев: 40 Значение RMSE: 46.2\n",
      "Глубина: 2 Количество деревьев: 50 Значение RMSE: 46.2\n",
      "Глубина: 2 Количество деревьев: 60 Значение RMSE: 46.3\n",
      "Глубина: 3 Количество деревьев: 40 Значение RMSE: 41.8\n",
      "Глубина: 3 Количество деревьев: 50 Значение RMSE: 41.8\n",
      "Глубина: 3 Количество деревьев: 60 Значение RMSE: 42.0\n",
      "Глубина: 4 Количество деревьев: 40 Значение RMSE: 37.9\n",
      "Глубина: 4 Количество деревьев: 50 Значение RMSE: 38.0\n",
      "Глубина: 4 Количество деревьев: 60 Значение RMSE: 38.2\n",
      "Глубина: 5 Количество деревьев: 40 Значение RMSE: 36.8\n",
      "Глубина: 5 Количество деревьев: 50 Значение RMSE: 36.7\n",
      "Глубина: 5 Количество деревьев: 60 Значение RMSE: 36.8\n",
      "Глубина: 6 Количество деревьев: 40 Значение RMSE: 36.4\n",
      "Глубина: 6 Количество деревьев: 50 Значение RMSE: 36.3\n",
      "Глубина: 6 Количество деревьев: 60 Значение RMSE: 36.4\n",
      "Лучшая глубина: None Лучшее количество деревьев: 40 Лучшее значение RMSE: 34.9\n",
      "CPU times: user 1min 3s, sys: 237 ms, total: 1min 3s\n",
      "Wall time: 1min 3s\n"
     ]
    }
   ],
   "source": [
    "%%time\n",
    "best_rmse = 150\n",
    "for depth in [None] + [i for i in range(2, 7)]:\n",
    "    for est in range(40, 70, 10):\n",
    "        model = RandomForestRegressor(n_estimators=est, max_depth=depth, random_state=12345)\n",
    "        model.fit(features_train, target_train)\n",
    "        predict = model.predict(features_valid)\n",
    "        rmse = mean_squared_error(target_valid, predict)**0.5\n",
    "        if rmse < best_rmse:\n",
    "            best_depth = depth\n",
    "            best_est = est\n",
    "            best_rmse = rmse\n",
    "        print(f'Глубина: {depth} Количество деревьев: {est} Значение RMSE: {rmse:.1f}')\n",
    "print(f'Лучшая глубина: {best_depth} Лучшее количество деревьев: {best_est} Лучшее значение RMSE: {best_rmse:.1f}')"
   ]
  },
  {
   "cell_type": "markdown",
   "metadata": {},
   "source": [
    "        В данные добавлены столбцы 'day', 'dayofweek' и 'hour'. Также были добавлены отстающие и скользящее значения.\n",
    "     Данные были разделены на 3 выборки: тренировочную, валидационную и тестовую, в соотношении 8:1:1 соответственно.\n",
    "     После создания признаков, было изучено 3 модели: LinearRegressor, CatBoostRegressor и RandomForestRegressor, \n",
    "     для моделей найдены лучшие параметры. Наилучший результат дала модель RandomForestRegressor. Лучшее значение RMSE на\n",
    "     валидационной выборке равно 34,9. RandomForestRegressor необходимо протестировать на тестовой выборке."
   ]
  },
  {
   "cell_type": "markdown",
   "metadata": {},
   "source": [
    "## Тестирование"
   ]
  },
  {
   "cell_type": "code",
   "execution_count": 22,
   "metadata": {},
   "outputs": [],
   "source": [
    "features_train = pd.concat([features_train, features_valid])\n",
    "target_train = pd.concat([target_train, target_valid])"
   ]
  },
  {
   "cell_type": "code",
   "execution_count": 23,
   "metadata": {
    "scrolled": true
   },
   "outputs": [
    {
     "name": "stdout",
     "output_type": "stream",
     "text": [
      "Значение RMSE для модели LinearRegression: 46.1\n",
      "CPU times: user 7.42 s, sys: 43.9 ms, total: 7.46 s\n",
      "Wall time: 7.47 s\n"
     ]
    }
   ],
   "source": [
    "%%time\n",
    "model = RandomForestRegressor(n_estimators=40, max_depth=None, random_state=12345)\n",
    "model.fit(features_train, target_train)\n",
    "\n",
    "\n",
    "predict = model.predict(features_test)\n",
    "rmse = mean_squared_error(target_test, predict)**0.5\n",
    "print(f'Значение RMSE для модели LinearRegression: {rmse:.1f}')"
   ]
  },
  {
   "cell_type": "code",
   "execution_count": 24,
   "metadata": {},
   "outputs": [
    {
     "name": "stdout",
     "output_type": "stream",
     "text": [
      "Значение RMSE для константной модели: 58.8\n"
     ]
    }
   ],
   "source": [
    "pred_previous = target_test.shift()\n",
    "pred_previous.iloc[0] = target_train.iloc[-1]\n",
    "rmse = mean_squared_error(target_test, pred_previous)**0.5\n",
    "print(f'Значение RMSE для константной модели: {rmse:.1f}')"
   ]
  },
  {
   "cell_type": "markdown",
   "metadata": {},
   "source": [
    "        Тренировочная и валидационная выборки были объединены. Модель RandomForestRegressor обучена и проверена на тестовой\n",
    "     выборке, значение RMSE = 46,1. Была проведена проверка на адекватность с помощью константной модели, результат которой\n",
    "     равен 58,8. "
   ]
  },
  {
   "cell_type": "markdown",
   "metadata": {},
   "source": [
    "# Вывод\n",
    "## Подготовка\n",
    "    \n",
    "    - Данные выгружены в переменную data;\n",
    "    - Произведено ресемплирование по одному часу и по одному дню.\n",
    "## Анализ\n",
    "\n",
    "    - Проанализировано количество заказов, среднее количество заказов и стандартное скользящее отклонение;\n",
    "    - Изучен тренд количества заказов, построен график, по которому видно, что в течении всего\n",
    "    времени количество заказов растет;\n",
    "    - Также изучена сезонность количества заказов. График показывает ежедневную цикличность;\n",
    "    - Изучена сезонность в течении дня: самое большое количество заказов с 22:00 до 3:00, а также в 17:00, меньше всего \n",
    "    заказов в период с 5:00 до 7:00;\n",
    "    - Изучены шумы на всем промежутке данных, к концу графика доля остатков возрастает, поэтому\n",
    "     возможно будет заметна разницы между метриками при обучении и тестировании;\n",
    "     - Изучена сезонность количество заказов при ресемплировании данных по одному дню;\n",
    "     - Заметна цикличность: большего заказов в понедельник и пятницу, меньше всего во вторник и в воскресенье.\n",
    "     \n",
    "## Обучение\n",
    "\n",
    "    - В данные добавлены столбцы 'day', 'dayofweek' и 'hour';\n",
    "    - Добавлены отстающие и скользящее значения.\n",
    "    - Данные были разделены на 3 выборки: тренировочную, валидационную и тестовую, в соотношении 8:1:1 соответственно;\n",
    "    - После создания признаков, было изучено 3 модели: LinearRegressor, CatBoostRegressor и RandomForestRegressor, \n",
    "     для моделей найдены лучшие параметры;\n",
    "     - Наилучший результат дала модель RandomForestRegressor. Лучшее значение RMSE на\n",
    "     валидационной выборке равно 34,9.\n",
    "\n",
    "## Тестирование\n",
    "\n",
    "    - Тренировочная и валидационная выборки были объединены;\n",
    "    - Модель RandomForestRegressor обучена и проверена на тестовой выборке, значение RMSE = 46,1;\n",
    "    - Была проведена проверка на адекватность с помощью константной модели, результат которой равен 58,8;"
   ]
  }
 ],
 "metadata": {
  "ExecuteTimeLog": [
   {
    "duration": 47,
    "start_time": "2023-08-22T23:59:18.409Z"
   },
   {
    "duration": 380,
    "start_time": "2023-08-22T23:59:30.408Z"
   },
   {
    "duration": 188,
    "start_time": "2023-08-22T23:59:30.823Z"
   },
   {
    "duration": 53,
    "start_time": "2023-08-23T01:44:51.350Z"
   },
   {
    "duration": 13,
    "start_time": "2023-08-23T01:45:12.795Z"
   },
   {
    "duration": 12,
    "start_time": "2023-08-23T01:45:17.291Z"
   },
   {
    "duration": 20,
    "start_time": "2023-08-23T01:45:25.968Z"
   },
   {
    "duration": 9,
    "start_time": "2023-08-23T01:46:12.314Z"
   },
   {
    "duration": 69,
    "start_time": "2023-08-23T01:46:27.458Z"
   },
   {
    "duration": 3,
    "start_time": "2023-08-23T01:47:22.155Z"
   },
   {
    "duration": 49,
    "start_time": "2023-08-23T01:47:22.689Z"
   },
   {
    "duration": 13,
    "start_time": "2023-08-23T01:47:23.251Z"
   },
   {
    "duration": 11,
    "start_time": "2023-08-23T01:47:25.298Z"
   },
   {
    "duration": 5,
    "start_time": "2023-08-23T01:47:30.688Z"
   },
   {
    "duration": 9,
    "start_time": "2023-08-23T01:47:37.034Z"
   },
   {
    "duration": 77703,
    "start_time": "2023-08-23T01:47:44.811Z"
   },
   {
    "duration": 11,
    "start_time": "2023-08-23T01:49:05.027Z"
   },
   {
    "duration": 4,
    "start_time": "2023-08-23T01:49:08.627Z"
   },
   {
    "duration": 8,
    "start_time": "2023-08-23T01:49:13.923Z"
   },
   {
    "duration": 3,
    "start_time": "2023-08-23T01:49:17.895Z"
   },
   {
    "duration": 48,
    "start_time": "2023-08-23T01:49:18.090Z"
   },
   {
    "duration": 7,
    "start_time": "2023-08-23T01:49:18.412Z"
   },
   {
    "duration": 3,
    "start_time": "2023-08-23T01:49:18.940Z"
   },
   {
    "duration": 4,
    "start_time": "2023-08-23T01:49:22.043Z"
   },
   {
    "duration": 282489,
    "start_time": "2023-08-23T01:49:22.756Z"
   },
   {
    "duration": 2,
    "start_time": "2023-08-23T01:54:10.696Z"
   },
   {
    "duration": 59,
    "start_time": "2023-08-23T01:54:10.957Z"
   },
   {
    "duration": 15,
    "start_time": "2023-08-23T01:54:11.186Z"
   },
   {
    "duration": 4,
    "start_time": "2023-08-23T01:54:11.589Z"
   },
   {
    "duration": 615,
    "start_time": "2023-08-23T01:54:12.029Z"
   },
   {
    "duration": 5,
    "start_time": "2023-08-23T01:54:20.589Z"
   },
   {
    "duration": 45,
    "start_time": "2023-08-23T01:54:20.796Z"
   },
   {
    "duration": 7,
    "start_time": "2023-08-23T01:54:21.100Z"
   },
   {
    "duration": 7,
    "start_time": "2023-08-23T01:54:21.487Z"
   },
   {
    "duration": 1575,
    "start_time": "2023-08-23T01:54:21.856Z"
   },
   {
    "duration": 3,
    "start_time": "2023-08-23T01:54:35.196Z"
   },
   {
    "duration": 64,
    "start_time": "2023-08-23T01:54:35.456Z"
   },
   {
    "duration": 12,
    "start_time": "2023-08-23T01:54:35.652Z"
   },
   {
    "duration": 4,
    "start_time": "2023-08-23T01:54:35.845Z"
   },
   {
    "duration": 1415,
    "start_time": "2023-08-23T01:54:36.297Z"
   },
   {
    "duration": 12,
    "start_time": "2023-08-23T01:54:44.388Z"
   },
   {
    "duration": 46,
    "start_time": "2023-08-23T01:54:44.595Z"
   },
   {
    "duration": 10,
    "start_time": "2023-08-23T01:54:44.797Z"
   },
   {
    "duration": 4,
    "start_time": "2023-08-23T01:54:45.101Z"
   },
   {
    "duration": 22912,
    "start_time": "2023-08-23T01:54:45.428Z"
   },
   {
    "duration": 0,
    "start_time": "2023-08-23T01:55:08.343Z"
   },
   {
    "duration": 4,
    "start_time": "2023-08-23T01:55:10.940Z"
   },
   {
    "duration": 64,
    "start_time": "2023-08-23T01:55:11.228Z"
   },
   {
    "duration": 7,
    "start_time": "2023-08-23T01:55:11.509Z"
   },
   {
    "duration": 4,
    "start_time": "2023-08-23T01:55:11.999Z"
   },
   {
    "duration": 16,
    "start_time": "2023-08-23T01:55:45.682Z"
   },
   {
    "duration": 5,
    "start_time": "2023-08-23T01:56:15.182Z"
   },
   {
    "duration": 45,
    "start_time": "2023-08-23T01:56:15.412Z"
   },
   {
    "duration": 7,
    "start_time": "2023-08-23T01:56:15.709Z"
   },
   {
    "duration": 7,
    "start_time": "2023-08-23T01:56:16.045Z"
   },
   {
    "duration": 7,
    "start_time": "2023-08-23T01:56:16.837Z"
   },
   {
    "duration": 10,
    "start_time": "2023-08-23T01:56:30.185Z"
   },
   {
    "duration": 368,
    "start_time": "2023-08-23T01:56:37.280Z"
   },
   {
    "duration": 8,
    "start_time": "2023-08-23T01:56:49.829Z"
   },
   {
    "duration": 8,
    "start_time": "2023-08-23T01:56:54.521Z"
   },
   {
    "duration": 5,
    "start_time": "2023-08-23T01:57:50.688Z"
   },
   {
    "duration": 69,
    "start_time": "2023-08-23T01:57:50.848Z"
   },
   {
    "duration": 8,
    "start_time": "2023-08-23T01:57:50.989Z"
   },
   {
    "duration": 8,
    "start_time": "2023-08-23T01:57:51.152Z"
   },
   {
    "duration": 7,
    "start_time": "2023-08-23T01:57:52.187Z"
   },
   {
    "duration": 286,
    "start_time": "2023-08-23T01:57:52.725Z"
   },
   {
    "duration": 3,
    "start_time": "2023-08-23T01:58:42.853Z"
   },
   {
    "duration": 71,
    "start_time": "2023-08-23T01:58:43.029Z"
   },
   {
    "duration": 8,
    "start_time": "2023-08-23T01:58:43.196Z"
   },
   {
    "duration": 12,
    "start_time": "2023-08-23T01:58:43.378Z"
   },
   {
    "duration": 317,
    "start_time": "2023-08-23T01:58:45.814Z"
   },
   {
    "duration": 192,
    "start_time": "2023-08-23T01:58:54.652Z"
   },
   {
    "duration": 305,
    "start_time": "2023-08-23T01:59:01.510Z"
   },
   {
    "duration": 7,
    "start_time": "2023-08-23T01:59:17.854Z"
   },
   {
    "duration": 337,
    "start_time": "2023-08-23T01:59:18.594Z"
   },
   {
    "duration": 8,
    "start_time": "2023-08-23T01:59:41.221Z"
   },
   {
    "duration": 422,
    "start_time": "2023-08-23T01:59:48.133Z"
   },
   {
    "duration": 51,
    "start_time": "2023-08-23T01:59:51.926Z"
   },
   {
    "duration": 11,
    "start_time": "2023-08-23T02:00:06.414Z"
   },
   {
    "duration": 21,
    "start_time": "2023-08-23T02:00:23.753Z"
   },
   {
    "duration": 178,
    "start_time": "2023-08-23T02:00:42.653Z"
   },
   {
    "duration": 197,
    "start_time": "2023-08-23T02:00:49.384Z"
   },
   {
    "duration": 183,
    "start_time": "2023-08-23T02:00:55.956Z"
   },
   {
    "duration": 188,
    "start_time": "2023-08-23T02:01:01.654Z"
   },
   {
    "duration": 26,
    "start_time": "2023-08-23T02:01:13.657Z"
   },
   {
    "duration": 184,
    "start_time": "2023-08-23T02:01:17.549Z"
   },
   {
    "duration": 167,
    "start_time": "2023-08-23T02:01:28.518Z"
   },
   {
    "duration": 200,
    "start_time": "2023-08-23T02:01:34.072Z"
   },
   {
    "duration": 1534,
    "start_time": "2023-08-23T02:01:42.014Z"
   },
   {
    "duration": 359,
    "start_time": "2023-08-23T02:02:10.630Z"
   },
   {
    "duration": 3,
    "start_time": "2023-08-23T02:02:31.055Z"
   },
   {
    "duration": 56,
    "start_time": "2023-08-23T02:02:31.325Z"
   },
   {
    "duration": 15,
    "start_time": "2023-08-23T02:02:31.553Z"
   },
   {
    "duration": 13,
    "start_time": "2023-08-23T02:02:31.976Z"
   },
   {
    "duration": 7,
    "start_time": "2023-08-23T02:02:39.346Z"
   },
   {
    "duration": 258,
    "start_time": "2023-08-23T02:02:40.787Z"
   },
   {
    "duration": 7,
    "start_time": "2023-08-23T02:02:42.392Z"
   },
   {
    "duration": 286,
    "start_time": "2023-08-23T02:02:42.630Z"
   },
   {
    "duration": 304,
    "start_time": "2023-08-23T02:02:46.022Z"
   },
   {
    "duration": 299,
    "start_time": "2023-08-23T02:03:36.702Z"
   },
   {
    "duration": 288,
    "start_time": "2023-08-23T02:03:40.254Z"
   },
   {
    "duration": 347,
    "start_time": "2023-08-23T02:03:42.502Z"
   },
   {
    "duration": 238,
    "start_time": "2023-08-23T02:03:47.510Z"
   },
   {
    "duration": 306,
    "start_time": "2023-08-23T02:03:54.087Z"
   },
   {
    "duration": 265,
    "start_time": "2023-08-23T02:03:56.958Z"
   },
   {
    "duration": 325,
    "start_time": "2023-08-23T02:04:05.086Z"
   },
   {
    "duration": 263,
    "start_time": "2023-08-23T02:04:10.684Z"
   },
   {
    "duration": 9,
    "start_time": "2023-08-23T02:04:25.192Z"
   },
   {
    "duration": 346,
    "start_time": "2023-08-23T02:04:25.780Z"
   },
   {
    "duration": 9,
    "start_time": "2023-08-23T02:04:33.187Z"
   },
   {
    "duration": 345,
    "start_time": "2023-08-23T02:04:33.702Z"
   },
   {
    "duration": 3,
    "start_time": "2023-08-23T02:04:35.822Z"
   },
   {
    "duration": 46,
    "start_time": "2023-08-23T02:04:35.986Z"
   },
   {
    "duration": 8,
    "start_time": "2023-08-23T02:04:36.185Z"
   },
   {
    "duration": 7,
    "start_time": "2023-08-23T02:04:36.490Z"
   },
   {
    "duration": 290,
    "start_time": "2023-08-23T02:04:37.118Z"
   },
   {
    "duration": 284,
    "start_time": "2023-08-23T02:04:49.583Z"
   },
   {
    "duration": 309,
    "start_time": "2023-08-23T02:05:02.180Z"
   },
   {
    "duration": 365,
    "start_time": "2023-08-23T02:05:03.925Z"
   },
   {
    "duration": 6,
    "start_time": "2023-08-23T02:05:09.238Z"
   },
   {
    "duration": 5,
    "start_time": "2023-08-23T02:05:11.501Z"
   },
   {
    "duration": 140,
    "start_time": "2023-08-23T02:05:14.386Z"
   },
   {
    "duration": 5,
    "start_time": "2023-08-23T02:05:16.638Z"
   },
   {
    "duration": 3,
    "start_time": "2023-08-23T02:05:20.629Z"
   },
   {
    "duration": 5,
    "start_time": "2023-08-23T02:05:23.013Z"
   },
   {
    "duration": 844,
    "start_time": "2023-08-23T02:05:25.237Z"
   },
   {
    "duration": 286,
    "start_time": "2023-08-23T02:05:28.613Z"
   },
   {
    "duration": 283,
    "start_time": "2023-08-23T02:05:30.589Z"
   },
   {
    "duration": 283,
    "start_time": "2023-08-23T02:05:32.709Z"
   },
   {
    "duration": 125,
    "start_time": "2023-08-23T02:05:35.390Z"
   },
   {
    "duration": 362,
    "start_time": "2023-08-23T02:05:43.862Z"
   },
   {
    "duration": 355,
    "start_time": "2023-08-23T02:05:49.797Z"
   },
   {
    "duration": 404,
    "start_time": "2023-08-23T02:05:52.352Z"
   },
   {
    "duration": 731,
    "start_time": "2023-08-23T02:05:57.880Z"
   },
   {
    "duration": 2956,
    "start_time": "2023-08-23T02:06:02.733Z"
   },
   {
    "duration": 506,
    "start_time": "2023-08-23T02:06:16.983Z"
   },
   {
    "duration": 425,
    "start_time": "2023-08-23T02:06:20.251Z"
   },
   {
    "duration": 386,
    "start_time": "2023-08-23T02:06:22.925Z"
   },
   {
    "duration": 326,
    "start_time": "2023-08-23T02:06:27.925Z"
   },
   {
    "duration": 356,
    "start_time": "2023-08-23T02:06:32.085Z"
   },
   {
    "duration": 384,
    "start_time": "2023-08-23T02:06:44.681Z"
   },
   {
    "duration": 300,
    "start_time": "2023-08-23T02:06:47.604Z"
   },
   {
    "duration": 388,
    "start_time": "2023-08-23T02:06:51.108Z"
   },
   {
    "duration": 546,
    "start_time": "2023-08-23T02:06:54.928Z"
   },
   {
    "duration": 542,
    "start_time": "2023-08-23T02:06:58.517Z"
   },
   {
    "duration": 10,
    "start_time": "2023-08-23T02:07:46.375Z"
   },
   {
    "duration": 11,
    "start_time": "2023-08-23T02:08:08.436Z"
   },
   {
    "duration": 11,
    "start_time": "2023-08-23T02:08:12.036Z"
   },
   {
    "duration": 341,
    "start_time": "2023-08-23T02:08:18.976Z"
   },
   {
    "duration": 310,
    "start_time": "2023-08-23T02:08:28.116Z"
   },
   {
    "duration": 303,
    "start_time": "2023-08-23T02:08:32.381Z"
   },
   {
    "duration": 226,
    "start_time": "2023-08-23T02:08:46.604Z"
   },
   {
    "duration": 261,
    "start_time": "2023-08-23T02:08:49.107Z"
   },
   {
    "duration": 9,
    "start_time": "2023-08-23T02:09:14.691Z"
   },
   {
    "duration": 242,
    "start_time": "2023-08-23T02:09:25.387Z"
   },
   {
    "duration": 302,
    "start_time": "2023-08-23T02:09:33.086Z"
   },
   {
    "duration": 307,
    "start_time": "2023-08-23T02:09:37.284Z"
   },
   {
    "duration": 3,
    "start_time": "2023-08-23T02:09:48.152Z"
   },
   {
    "duration": 52,
    "start_time": "2023-08-23T02:09:48.331Z"
   },
   {
    "duration": 7,
    "start_time": "2023-08-23T02:09:48.531Z"
   },
   {
    "duration": 9,
    "start_time": "2023-08-23T02:09:48.812Z"
   },
   {
    "duration": 8,
    "start_time": "2023-08-23T02:09:51.685Z"
   },
   {
    "duration": 294,
    "start_time": "2023-08-23T02:09:52.395Z"
   },
   {
    "duration": 8,
    "start_time": "2023-08-23T02:09:59.376Z"
   },
   {
    "duration": 280,
    "start_time": "2023-08-23T02:10:04.465Z"
   },
   {
    "duration": 217,
    "start_time": "2023-08-23T02:10:18.300Z"
   },
   {
    "duration": 3,
    "start_time": "2023-08-23T02:10:29.220Z"
   },
   {
    "duration": 285,
    "start_time": "2023-08-23T02:10:30.404Z"
   },
   {
    "duration": 4,
    "start_time": "2023-08-23T02:10:34.131Z"
   },
   {
    "duration": 44,
    "start_time": "2023-08-23T02:10:34.285Z"
   },
   {
    "duration": 7,
    "start_time": "2023-08-23T02:10:34.485Z"
   },
   {
    "duration": 9,
    "start_time": "2023-08-23T02:10:34.634Z"
   },
   {
    "duration": 246,
    "start_time": "2023-08-23T02:10:36.645Z"
   },
   {
    "duration": 5,
    "start_time": "2023-08-23T02:10:38.099Z"
   },
   {
    "duration": 274,
    "start_time": "2023-08-23T02:10:38.523Z"
   },
   {
    "duration": 408,
    "start_time": "2023-08-23T02:10:43.691Z"
   },
   {
    "duration": 247,
    "start_time": "2023-08-23T02:10:51.587Z"
   },
   {
    "duration": 263,
    "start_time": "2023-08-23T02:11:51.827Z"
   },
   {
    "duration": 333,
    "start_time": "2023-08-23T02:12:03.785Z"
   },
   {
    "duration": 234,
    "start_time": "2023-08-23T02:13:32.749Z"
   },
   {
    "duration": 370,
    "start_time": "2023-08-23T02:13:37.885Z"
   },
   {
    "duration": 252,
    "start_time": "2023-08-23T02:13:42.084Z"
   },
   {
    "duration": 276,
    "start_time": "2023-08-23T02:13:51.551Z"
   },
   {
    "duration": 319,
    "start_time": "2023-08-23T02:14:00.673Z"
   },
   {
    "duration": 182,
    "start_time": "2023-08-23T02:15:47.226Z"
   },
   {
    "duration": 226,
    "start_time": "2023-08-23T02:15:54.113Z"
   },
   {
    "duration": 178,
    "start_time": "2023-08-23T02:16:27.782Z"
   },
   {
    "duration": 198,
    "start_time": "2023-08-23T02:16:54.618Z"
   },
   {
    "duration": 9,
    "start_time": "2023-08-23T02:17:12.530Z"
   },
   {
    "duration": 13,
    "start_time": "2023-08-23T02:17:14.574Z"
   },
   {
    "duration": 205,
    "start_time": "2023-08-23T02:17:22.986Z"
   },
   {
    "duration": 195,
    "start_time": "2023-08-23T02:17:39.802Z"
   },
   {
    "duration": 180,
    "start_time": "2023-08-23T02:17:53.257Z"
   },
   {
    "duration": 194,
    "start_time": "2023-08-23T02:18:08.297Z"
   },
   {
    "duration": 201,
    "start_time": "2023-08-23T02:18:23.548Z"
   },
   {
    "duration": 173,
    "start_time": "2023-08-23T02:18:51.485Z"
   },
   {
    "duration": 230,
    "start_time": "2023-08-23T02:19:14.114Z"
   },
   {
    "duration": 180,
    "start_time": "2023-08-23T02:19:18.785Z"
   },
   {
    "duration": 181,
    "start_time": "2023-08-23T02:19:23.753Z"
   },
   {
    "duration": 219,
    "start_time": "2023-08-23T02:19:34.123Z"
   },
   {
    "duration": 188,
    "start_time": "2023-08-23T02:19:41.446Z"
   },
   {
    "duration": 193,
    "start_time": "2023-08-23T02:19:48.684Z"
   },
   {
    "duration": 194,
    "start_time": "2023-08-23T02:19:52.394Z"
   },
   {
    "duration": 217,
    "start_time": "2023-08-23T02:20:00.047Z"
   },
   {
    "duration": 196,
    "start_time": "2023-08-23T02:20:02.698Z"
   },
   {
    "duration": 363,
    "start_time": "2023-08-23T02:21:59.385Z"
   },
   {
    "duration": 216,
    "start_time": "2023-08-23T02:22:03.201Z"
   },
   {
    "duration": 3,
    "start_time": "2023-08-23T02:22:19.321Z"
   },
   {
    "duration": 208,
    "start_time": "2023-08-23T02:22:22.565Z"
   },
   {
    "duration": 208,
    "start_time": "2023-08-23T02:22:27.738Z"
   },
   {
    "duration": 208,
    "start_time": "2023-08-23T02:22:52.698Z"
   },
   {
    "duration": 196,
    "start_time": "2023-08-23T02:23:04.730Z"
   },
   {
    "duration": 212,
    "start_time": "2023-08-23T02:23:07.217Z"
   },
   {
    "duration": 13802,
    "start_time": "2023-08-23T02:23:30.322Z"
   },
   {
    "duration": 155,
    "start_time": "2023-08-23T02:23:58.476Z"
   },
   {
    "duration": 184,
    "start_time": "2023-08-23T02:24:02.947Z"
   },
   {
    "duration": 2821,
    "start_time": "2023-08-23T02:24:18.083Z"
   },
   {
    "duration": 179,
    "start_time": "2023-08-23T02:24:31.705Z"
   },
   {
    "duration": 204,
    "start_time": "2023-08-23T02:24:38.233Z"
   },
   {
    "duration": 193,
    "start_time": "2023-08-23T02:24:50.721Z"
   },
   {
    "duration": 152,
    "start_time": "2023-08-23T02:25:01.289Z"
   },
   {
    "duration": 187,
    "start_time": "2023-08-23T02:25:14.729Z"
   },
   {
    "duration": 2835,
    "start_time": "2023-08-23T02:25:24.497Z"
   },
   {
    "duration": 198,
    "start_time": "2023-08-23T02:25:42.721Z"
   },
   {
    "duration": 2878,
    "start_time": "2023-08-23T02:25:52.346Z"
   },
   {
    "duration": 195,
    "start_time": "2023-08-23T02:25:57.946Z"
   },
   {
    "duration": 193,
    "start_time": "2023-08-23T02:26:19.346Z"
   },
   {
    "duration": 3,
    "start_time": "2023-08-23T02:26:31.426Z"
   },
   {
    "duration": 79,
    "start_time": "2023-08-23T02:26:31.431Z"
   },
   {
    "duration": 7,
    "start_time": "2023-08-23T02:26:31.511Z"
   },
   {
    "duration": 67,
    "start_time": "2023-08-23T02:26:31.519Z"
   },
   {
    "duration": 251,
    "start_time": "2023-08-23T02:26:31.588Z"
   },
   {
    "duration": 4,
    "start_time": "2023-08-23T02:26:31.841Z"
   },
   {
    "duration": 285,
    "start_time": "2023-08-23T02:26:31.847Z"
   },
   {
    "duration": 558,
    "start_time": "2023-08-23T02:26:32.134Z"
   },
   {
    "duration": 7,
    "start_time": "2023-08-23T02:26:32.694Z"
   },
   {
    "duration": 201,
    "start_time": "2023-08-23T02:26:35.384Z"
   },
   {
    "duration": 189,
    "start_time": "2023-08-23T02:26:57.248Z"
   },
   {
    "duration": 196,
    "start_time": "2023-08-23T02:27:01.289Z"
   },
   {
    "duration": 185,
    "start_time": "2023-08-23T02:27:03.633Z"
   },
   {
    "duration": 185,
    "start_time": "2023-08-23T02:27:09.360Z"
   },
   {
    "duration": 202,
    "start_time": "2023-08-23T02:27:24.592Z"
   },
   {
    "duration": 204,
    "start_time": "2023-08-23T02:27:31.880Z"
   },
   {
    "duration": 228,
    "start_time": "2023-08-23T02:27:54.337Z"
   },
   {
    "duration": 216,
    "start_time": "2023-08-23T02:30:36.096Z"
   },
   {
    "duration": 213,
    "start_time": "2023-08-23T02:30:59.528Z"
   },
   {
    "duration": 241,
    "start_time": "2023-08-23T02:31:39.446Z"
   },
   {
    "duration": 238,
    "start_time": "2023-08-23T02:32:11.529Z"
   },
   {
    "duration": 200,
    "start_time": "2023-08-23T02:33:15.671Z"
   },
   {
    "duration": 237,
    "start_time": "2023-08-23T02:33:49.616Z"
   },
   {
    "duration": 209,
    "start_time": "2023-08-23T02:33:57.185Z"
   },
   {
    "duration": 1152,
    "start_time": "2023-08-23T02:34:23.140Z"
   },
   {
    "duration": 47,
    "start_time": "2023-08-23T02:34:24.294Z"
   },
   {
    "duration": 9,
    "start_time": "2023-08-23T02:34:24.343Z"
   },
   {
    "duration": 11,
    "start_time": "2023-08-23T02:34:24.354Z"
   },
   {
    "duration": 278,
    "start_time": "2023-08-23T02:34:24.370Z"
   },
   {
    "duration": 5,
    "start_time": "2023-08-23T02:34:24.650Z"
   },
   {
    "duration": 267,
    "start_time": "2023-08-23T02:34:24.656Z"
   },
   {
    "duration": 320,
    "start_time": "2023-08-23T02:34:24.925Z"
   },
   {
    "duration": 27,
    "start_time": "2023-08-23T02:34:25.247Z"
   },
   {
    "duration": 226,
    "start_time": "2023-08-23T02:34:25.276Z"
   },
   {
    "duration": 257,
    "start_time": "2023-08-23T02:34:39.784Z"
   },
   {
    "duration": 222,
    "start_time": "2023-08-23T02:35:27.824Z"
   },
   {
    "duration": 223,
    "start_time": "2023-08-23T02:36:41.312Z"
   },
   {
    "duration": 234,
    "start_time": "2023-08-23T02:37:06.485Z"
   },
   {
    "duration": 293,
    "start_time": "2023-08-23T02:37:27.109Z"
   },
   {
    "duration": 325,
    "start_time": "2023-08-23T02:47:33.483Z"
   },
   {
    "duration": 29,
    "start_time": "2023-08-23T02:47:36.802Z"
   },
   {
    "duration": 185,
    "start_time": "2023-08-23T02:47:42.538Z"
   },
   {
    "duration": 177,
    "start_time": "2023-08-23T02:48:03.788Z"
   },
   {
    "duration": 358,
    "start_time": "2023-08-23T02:48:53.332Z"
   },
   {
    "duration": 142,
    "start_time": "2023-08-23T02:49:09.415Z"
   },
   {
    "duration": 34,
    "start_time": "2023-08-23T02:49:16.173Z"
   },
   {
    "duration": 170,
    "start_time": "2023-08-23T02:49:36.882Z"
   },
   {
    "duration": 179,
    "start_time": "2023-08-23T02:49:42.083Z"
   },
   {
    "duration": 307,
    "start_time": "2023-08-23T02:49:52.234Z"
   },
   {
    "duration": 314,
    "start_time": "2023-08-23T02:49:59.514Z"
   },
   {
    "duration": 505,
    "start_time": "2023-08-23T02:50:13.725Z"
   },
   {
    "duration": 395,
    "start_time": "2023-08-23T02:50:20.338Z"
   },
   {
    "duration": 378,
    "start_time": "2023-08-23T02:50:25.566Z"
   },
   {
    "duration": 396,
    "start_time": "2023-08-23T02:50:29.130Z"
   },
   {
    "duration": 388,
    "start_time": "2023-08-23T02:50:35.845Z"
   },
   {
    "duration": 375,
    "start_time": "2023-08-23T02:51:40.987Z"
   },
   {
    "duration": 385,
    "start_time": "2023-08-23T02:51:54.755Z"
   },
   {
    "duration": 509,
    "start_time": "2023-08-23T02:51:59.802Z"
   },
   {
    "duration": 389,
    "start_time": "2023-08-23T02:52:06.051Z"
   },
   {
    "duration": 388,
    "start_time": "2023-08-23T02:52:10.634Z"
   },
   {
    "duration": 407,
    "start_time": "2023-08-23T02:52:41.811Z"
   },
   {
    "duration": 401,
    "start_time": "2023-08-23T02:52:45.352Z"
   },
   {
    "duration": 204,
    "start_time": "2023-08-23T03:00:41.530Z"
   },
   {
    "duration": 421,
    "start_time": "2023-08-23T03:00:56.384Z"
   },
   {
    "duration": 300,
    "start_time": "2023-08-23T03:01:09.254Z"
   },
   {
    "duration": 418,
    "start_time": "2023-08-23T03:01:14.922Z"
   },
   {
    "duration": 177,
    "start_time": "2023-08-23T03:01:25.260Z"
   },
   {
    "duration": 6,
    "start_time": "2023-08-23T03:01:32.898Z"
   },
   {
    "duration": 268,
    "start_time": "2023-08-23T03:01:37.234Z"
   },
   {
    "duration": 301,
    "start_time": "2023-08-23T03:03:32.754Z"
   },
   {
    "duration": 278,
    "start_time": "2023-08-23T03:03:53.078Z"
   },
   {
    "duration": 298,
    "start_time": "2023-08-23T03:04:23.880Z"
   },
   {
    "duration": 15,
    "start_time": "2023-08-23T03:04:39.967Z"
   },
   {
    "duration": 295,
    "start_time": "2023-08-23T03:04:40.218Z"
   },
   {
    "duration": 398,
    "start_time": "2023-08-23T03:04:59.355Z"
   },
   {
    "duration": 6,
    "start_time": "2023-08-23T03:06:34.699Z"
   },
   {
    "duration": 304,
    "start_time": "2023-08-23T03:06:35.284Z"
   },
   {
    "duration": 304,
    "start_time": "2023-08-23T03:06:59.490Z"
   },
   {
    "duration": 9,
    "start_time": "2023-08-23T03:09:51.770Z"
   },
   {
    "duration": 6,
    "start_time": "2023-08-23T03:09:57.610Z"
   },
   {
    "duration": 4,
    "start_time": "2023-08-23T03:11:00.533Z"
   },
   {
    "duration": 104,
    "start_time": "2023-08-23T03:11:00.539Z"
   },
   {
    "duration": 7,
    "start_time": "2023-08-23T03:11:00.644Z"
   },
   {
    "duration": 55,
    "start_time": "2023-08-23T03:11:00.652Z"
   },
   {
    "duration": 63,
    "start_time": "2023-08-23T03:11:00.709Z"
   },
   {
    "duration": 330,
    "start_time": "2023-08-23T03:11:00.774Z"
   },
   {
    "duration": 415,
    "start_time": "2023-08-23T03:11:01.106Z"
   },
   {
    "duration": 366,
    "start_time": "2023-08-23T03:11:01.522Z"
   },
   {
    "duration": 2158,
    "start_time": "2023-08-23T03:11:04.122Z"
   },
   {
    "duration": 6,
    "start_time": "2023-08-23T03:11:14.974Z"
   },
   {
    "duration": 19,
    "start_time": "2023-08-23T03:11:26.260Z"
   },
   {
    "duration": 2212,
    "start_time": "2023-08-23T03:11:57.680Z"
   },
   {
    "duration": 1941,
    "start_time": "2023-08-23T03:12:17.034Z"
   },
   {
    "duration": 2003,
    "start_time": "2023-08-23T03:12:22.729Z"
   },
   {
    "duration": 2055,
    "start_time": "2023-08-23T03:12:27.756Z"
   },
   {
    "duration": 8,
    "start_time": "2023-08-23T03:12:35.026Z"
   },
   {
    "duration": 4,
    "start_time": "2023-08-23T03:12:41.595Z"
   },
   {
    "duration": 1955,
    "start_time": "2023-08-23T03:12:49.219Z"
   },
   {
    "duration": 10,
    "start_time": "2023-08-23T03:13:07.123Z"
   },
   {
    "duration": 14,
    "start_time": "2023-08-23T03:13:09.258Z"
   },
   {
    "duration": 2958,
    "start_time": "2023-08-23T03:13:28.242Z"
   },
   {
    "duration": 14,
    "start_time": "2023-08-23T03:13:36.276Z"
   },
   {
    "duration": 2634,
    "start_time": "2023-08-23T03:13:46.097Z"
   },
   {
    "duration": 3027,
    "start_time": "2023-08-23T03:14:05.056Z"
   },
   {
    "duration": 7,
    "start_time": "2023-08-23T03:14:33.519Z"
   },
   {
    "duration": 15,
    "start_time": "2023-08-23T03:14:46.817Z"
   },
   {
    "duration": 34,
    "start_time": "2023-08-23T03:15:28.554Z"
   },
   {
    "duration": 175,
    "start_time": "2023-08-23T03:15:43.605Z"
   },
   {
    "duration": 134,
    "start_time": "2023-08-23T03:15:49.250Z"
   },
   {
    "duration": 50,
    "start_time": "2023-08-23T03:16:03.857Z"
   },
   {
    "duration": 7,
    "start_time": "2023-08-23T03:16:11.012Z"
   },
   {
    "duration": 11,
    "start_time": "2023-08-23T03:16:19.332Z"
   },
   {
    "duration": 7,
    "start_time": "2023-08-23T03:16:30.284Z"
   },
   {
    "duration": 22,
    "start_time": "2023-08-23T03:16:34.461Z"
   },
   {
    "duration": 14,
    "start_time": "2023-08-23T03:16:45.684Z"
   },
   {
    "duration": 7,
    "start_time": "2023-08-23T03:17:00.525Z"
   },
   {
    "duration": 305,
    "start_time": "2023-08-23T03:17:01.076Z"
   },
   {
    "duration": 317,
    "start_time": "2023-08-23T03:17:55.951Z"
   },
   {
    "duration": 296,
    "start_time": "2023-08-23T03:18:32.154Z"
   },
   {
    "duration": 11,
    "start_time": "2023-08-23T03:19:03.372Z"
   },
   {
    "duration": 4,
    "start_time": "2023-08-23T03:21:46.230Z"
   },
   {
    "duration": 22,
    "start_time": "2023-08-23T03:22:06.798Z"
   },
   {
    "duration": 13,
    "start_time": "2023-08-23T03:22:12.302Z"
   },
   {
    "duration": 10,
    "start_time": "2023-08-23T03:22:23.326Z"
   },
   {
    "duration": 19,
    "start_time": "2023-08-23T03:22:33.872Z"
   },
   {
    "duration": 14,
    "start_time": "2023-08-23T03:22:45.413Z"
   },
   {
    "duration": 12,
    "start_time": "2023-08-23T03:22:56.317Z"
   },
   {
    "duration": 8,
    "start_time": "2023-08-23T03:23:12.333Z"
   },
   {
    "duration": 19,
    "start_time": "2023-08-23T03:23:15.333Z"
   },
   {
    "duration": 18,
    "start_time": "2023-08-23T03:23:21.294Z"
   },
   {
    "duration": 18,
    "start_time": "2023-08-23T03:23:45.628Z"
   },
   {
    "duration": 324,
    "start_time": "2023-08-23T03:26:04.931Z"
   },
   {
    "duration": 11,
    "start_time": "2023-08-23T03:26:07.379Z"
   },
   {
    "duration": 13,
    "start_time": "2023-08-23T03:26:14.811Z"
   },
   {
    "duration": 13,
    "start_time": "2023-08-23T03:26:19.483Z"
   },
   {
    "duration": 233,
    "start_time": "2023-08-23T03:35:22.423Z"
   },
   {
    "duration": 4,
    "start_time": "2023-08-23T03:36:49.302Z"
   },
   {
    "duration": 10,
    "start_time": "2023-08-23T03:37:18.514Z"
   },
   {
    "duration": 10,
    "start_time": "2023-08-23T03:37:21.181Z"
   },
   {
    "duration": 6,
    "start_time": "2023-08-23T03:37:46.746Z"
   },
   {
    "duration": 12,
    "start_time": "2023-08-23T03:37:50.946Z"
   },
   {
    "duration": 4,
    "start_time": "2023-08-23T03:37:56.422Z"
   },
   {
    "duration": 7,
    "start_time": "2023-08-23T03:37:59.757Z"
   },
   {
    "duration": 3,
    "start_time": "2023-08-23T03:38:06.245Z"
   },
   {
    "duration": 4,
    "start_time": "2023-08-23T03:38:09.549Z"
   },
   {
    "duration": 2492,
    "start_time": "2023-08-23T03:39:13.109Z"
   },
   {
    "duration": 4,
    "start_time": "2023-08-23T03:39:32.197Z"
   },
   {
    "duration": 12,
    "start_time": "2023-08-23T03:39:35.093Z"
   },
   {
    "duration": 32472,
    "start_time": "2023-08-23T03:39:37.687Z"
   },
   {
    "duration": 1605,
    "start_time": "2023-08-23T03:40:33.746Z"
   },
   {
    "duration": 1418,
    "start_time": "2023-08-23T03:40:37.029Z"
   },
   {
    "duration": 960,
    "start_time": "2023-08-23T03:40:43.472Z"
   },
   {
    "duration": 1236,
    "start_time": "2023-08-23T03:40:48.533Z"
   },
   {
    "duration": 1214,
    "start_time": "2023-08-23T03:40:54.640Z"
   },
   {
    "duration": 1294,
    "start_time": "2023-08-23T03:40:59.188Z"
   },
   {
    "duration": 7335,
    "start_time": "2023-08-23T03:41:23.145Z"
   },
   {
    "duration": 8920,
    "start_time": "2023-08-23T03:41:33.829Z"
   },
   {
    "duration": 12966,
    "start_time": "2023-08-23T03:41:46.384Z"
   },
   {
    "duration": 13795,
    "start_time": "2023-08-23T03:42:12.901Z"
   },
   {
    "duration": 8369,
    "start_time": "2023-08-23T03:42:40.181Z"
   },
   {
    "duration": 26399,
    "start_time": "2023-08-23T03:42:53.532Z"
   },
   {
    "duration": 14995,
    "start_time": "2023-08-23T03:43:23.885Z"
   },
   {
    "duration": 13865,
    "start_time": "2023-08-23T03:43:46.242Z"
   },
   {
    "duration": 29111,
    "start_time": "2023-08-23T03:44:13.574Z"
   },
   {
    "duration": 61230,
    "start_time": "2023-08-23T03:44:46.386Z"
   },
   {
    "duration": 20305,
    "start_time": "2023-08-23T03:46:22.084Z"
   },
   {
    "duration": 9,
    "start_time": "2023-08-23T03:47:08.284Z"
   },
   {
    "duration": 2497,
    "start_time": "2023-08-23T03:47:22.428Z"
   },
   {
    "duration": 15334,
    "start_time": "2023-08-23T03:47:35.588Z"
   },
   {
    "duration": 7685,
    "start_time": "2023-08-23T03:48:11.454Z"
   },
   {
    "duration": 11265,
    "start_time": "2023-08-23T03:48:31.831Z"
   },
   {
    "duration": 1993,
    "start_time": "2023-08-23T03:48:53.445Z"
   },
   {
    "duration": 17184,
    "start_time": "2023-08-23T03:48:57.252Z"
   },
   {
    "duration": 12341,
    "start_time": "2023-08-23T03:49:20.434Z"
   },
   {
    "duration": 5,
    "start_time": "2023-08-23T03:50:23.531Z"
   },
   {
    "duration": 965,
    "start_time": "2023-08-23T03:50:24.578Z"
   },
   {
    "duration": 918,
    "start_time": "2023-08-23T03:50:42.091Z"
   },
   {
    "duration": 981,
    "start_time": "2023-08-23T03:50:47.851Z"
   },
   {
    "duration": 1020,
    "start_time": "2023-08-23T03:50:51.781Z"
   },
   {
    "duration": 5,
    "start_time": "2023-08-23T03:50:55.803Z"
   },
   {
    "duration": 999,
    "start_time": "2023-08-23T03:50:56.011Z"
   },
   {
    "duration": 1169,
    "start_time": "2023-08-23T03:50:59.723Z"
   },
   {
    "duration": 1300,
    "start_time": "2023-08-23T03:51:03.781Z"
   },
   {
    "duration": 29,
    "start_time": "2023-08-23T03:51:22.195Z"
   },
   {
    "duration": 5,
    "start_time": "2023-08-23T03:51:28.533Z"
   },
   {
    "duration": 58,
    "start_time": "2023-08-23T03:51:28.540Z"
   },
   {
    "duration": 7,
    "start_time": "2023-08-23T03:51:28.600Z"
   },
   {
    "duration": 7,
    "start_time": "2023-08-23T03:51:28.609Z"
   },
   {
    "duration": 6,
    "start_time": "2023-08-23T03:51:28.618Z"
   },
   {
    "duration": 306,
    "start_time": "2023-08-23T03:51:28.625Z"
   },
   {
    "duration": 405,
    "start_time": "2023-08-23T03:51:28.932Z"
   },
   {
    "duration": 231,
    "start_time": "2023-08-23T03:51:29.339Z"
   },
   {
    "duration": 10,
    "start_time": "2023-08-23T03:51:29.571Z"
   },
   {
    "duration": 296,
    "start_time": "2023-08-23T03:51:29.583Z"
   },
   {
    "duration": 6,
    "start_time": "2023-08-23T03:51:29.881Z"
   },
   {
    "duration": 36,
    "start_time": "2023-08-23T03:51:29.890Z"
   },
   {
    "duration": 43,
    "start_time": "2023-08-23T03:51:33.749Z"
   },
   {
    "duration": 11,
    "start_time": "2023-08-23T03:51:34.906Z"
   },
   {
    "duration": 21713,
    "start_time": "2023-08-23T03:51:35.847Z"
   },
   {
    "duration": 21773,
    "start_time": "2023-08-23T03:51:59.248Z"
   },
   {
    "duration": 1828,
    "start_time": "2023-08-23T03:53:00.691Z"
   },
   {
    "duration": 159,
    "start_time": "2023-08-23T03:53:55.826Z"
   },
   {
    "duration": 4,
    "start_time": "2023-08-23T03:54:03.151Z"
   },
   {
    "duration": 79,
    "start_time": "2023-08-23T03:54:03.156Z"
   },
   {
    "duration": 8,
    "start_time": "2023-08-23T03:54:03.237Z"
   },
   {
    "duration": 29,
    "start_time": "2023-08-23T03:54:03.246Z"
   },
   {
    "duration": 27,
    "start_time": "2023-08-23T03:54:03.277Z"
   },
   {
    "duration": 329,
    "start_time": "2023-08-23T03:54:03.306Z"
   },
   {
    "duration": 442,
    "start_time": "2023-08-23T03:54:03.637Z"
   },
   {
    "duration": 258,
    "start_time": "2023-08-23T03:54:04.081Z"
   },
   {
    "duration": 8,
    "start_time": "2023-08-23T03:54:04.341Z"
   },
   {
    "duration": 304,
    "start_time": "2023-08-23T03:54:04.361Z"
   },
   {
    "duration": 12,
    "start_time": "2023-08-23T03:54:04.672Z"
   },
   {
    "duration": 26,
    "start_time": "2023-08-23T03:54:04.686Z"
   },
   {
    "duration": 0,
    "start_time": "2023-08-23T03:54:04.714Z"
   },
   {
    "duration": 0,
    "start_time": "2023-08-23T03:54:04.715Z"
   },
   {
    "duration": 7,
    "start_time": "2023-08-23T03:54:16.481Z"
   },
   {
    "duration": 29,
    "start_time": "2023-08-23T03:54:17.788Z"
   },
   {
    "duration": 8,
    "start_time": "2023-08-23T03:54:18.522Z"
   },
   {
    "duration": 126,
    "start_time": "2023-08-23T03:54:19.459Z"
   },
   {
    "duration": 76,
    "start_time": "2023-08-23T03:54:30.018Z"
   },
   {
    "duration": 22213,
    "start_time": "2023-08-23T03:54:31.876Z"
   },
   {
    "duration": 74,
    "start_time": "2023-08-23T03:54:55.898Z"
   },
   {
    "duration": 20210,
    "start_time": "2023-08-23T03:54:58.649Z"
   },
   {
    "duration": 7,
    "start_time": "2023-08-23T03:55:37.280Z"
   },
   {
    "duration": 2140,
    "start_time": "2023-08-23T03:55:37.748Z"
   },
   {
    "duration": 4,
    "start_time": "2023-08-23T03:56:05.519Z"
   },
   {
    "duration": 90,
    "start_time": "2023-08-23T03:56:05.524Z"
   },
   {
    "duration": 7,
    "start_time": "2023-08-23T03:56:05.615Z"
   },
   {
    "duration": 20,
    "start_time": "2023-08-23T03:56:05.624Z"
   },
   {
    "duration": 38,
    "start_time": "2023-08-23T03:56:05.646Z"
   },
   {
    "duration": 318,
    "start_time": "2023-08-23T03:56:05.687Z"
   },
   {
    "duration": 590,
    "start_time": "2023-08-23T03:56:06.007Z"
   },
   {
    "duration": 236,
    "start_time": "2023-08-23T03:56:06.598Z"
   },
   {
    "duration": 8,
    "start_time": "2023-08-23T03:56:06.836Z"
   },
   {
    "duration": 298,
    "start_time": "2023-08-23T03:56:06.846Z"
   },
   {
    "duration": 4,
    "start_time": "2023-08-23T03:56:07.146Z"
   },
   {
    "duration": 18,
    "start_time": "2023-08-23T03:56:07.158Z"
   },
   {
    "duration": 41,
    "start_time": "2023-08-23T03:56:07.181Z"
   },
   {
    "duration": 10,
    "start_time": "2023-08-23T03:56:07.224Z"
   },
   {
    "duration": 1546,
    "start_time": "2023-08-23T03:56:10.530Z"
   },
   {
    "duration": 15,
    "start_time": "2023-08-23T03:56:16.658Z"
   },
   {
    "duration": 2041,
    "start_time": "2023-08-23T03:56:17.026Z"
   },
   {
    "duration": 2518,
    "start_time": "2023-08-23T03:56:40.810Z"
   },
   {
    "duration": 2553,
    "start_time": "2023-08-23T03:56:51.298Z"
   },
   {
    "duration": 2378,
    "start_time": "2023-08-23T03:56:57.479Z"
   },
   {
    "duration": 4094,
    "start_time": "2023-08-23T03:57:01.938Z"
   },
   {
    "duration": 20141,
    "start_time": "2023-08-23T03:57:07.994Z"
   },
   {
    "duration": 15811,
    "start_time": "2023-08-23T03:57:31.155Z"
   },
   {
    "duration": 5812,
    "start_time": "2023-08-23T03:57:57.547Z"
   },
   {
    "duration": 8964,
    "start_time": "2023-08-23T03:58:08.485Z"
   },
   {
    "duration": 3,
    "start_time": "2023-08-23T03:59:09.618Z"
   },
   {
    "duration": 51,
    "start_time": "2023-08-23T03:59:09.921Z"
   },
   {
    "duration": 7,
    "start_time": "2023-08-23T03:59:10.202Z"
   },
   {
    "duration": 8,
    "start_time": "2023-08-23T03:59:10.745Z"
   },
   {
    "duration": 7,
    "start_time": "2023-08-23T03:59:11.382Z"
   },
   {
    "duration": 280,
    "start_time": "2023-08-23T03:59:12.173Z"
   },
   {
    "duration": 402,
    "start_time": "2023-08-23T03:59:12.510Z"
   },
   {
    "duration": 229,
    "start_time": "2023-08-23T03:59:12.914Z"
   },
   {
    "duration": 20,
    "start_time": "2023-08-23T03:59:13.145Z"
   },
   {
    "duration": 282,
    "start_time": "2023-08-23T03:59:13.337Z"
   },
   {
    "duration": 4,
    "start_time": "2023-08-23T03:59:16.929Z"
   },
   {
    "duration": 9,
    "start_time": "2023-08-23T03:59:18.361Z"
   },
   {
    "duration": 32,
    "start_time": "2023-08-23T03:59:20.105Z"
   },
   {
    "duration": 9,
    "start_time": "2023-08-23T03:59:27.610Z"
   },
   {
    "duration": 23,
    "start_time": "2023-08-23T03:59:29.338Z"
   },
   {
    "duration": 20892,
    "start_time": "2023-08-23T03:59:30.642Z"
   },
   {
    "duration": 71808,
    "start_time": "2023-08-23T04:00:02.746Z"
   },
   {
    "duration": 22423,
    "start_time": "2023-08-23T04:01:41.884Z"
   },
   {
    "duration": 1225,
    "start_time": "2023-08-23T04:02:21.217Z"
   },
   {
    "duration": 10,
    "start_time": "2023-08-23T04:06:36.608Z"
   },
   {
    "duration": 4,
    "start_time": "2023-08-23T04:06:43.352Z"
   },
   {
    "duration": 21,
    "start_time": "2023-08-23T04:06:47.808Z"
   },
   {
    "duration": 45,
    "start_time": "2023-08-23T04:06:52.015Z"
   },
   {
    "duration": 52680,
    "start_time": "2023-08-23T04:06:56.576Z"
   },
   {
    "duration": 10,
    "start_time": "2023-08-23T04:07:49.261Z"
   },
   {
    "duration": 54,
    "start_time": "2023-08-23T04:07:49.272Z"
   },
   {
    "duration": 7,
    "start_time": "2023-08-23T04:07:49.328Z"
   },
   {
    "duration": 11,
    "start_time": "2023-08-23T04:07:49.336Z"
   },
   {
    "duration": 5,
    "start_time": "2023-08-23T04:07:49.349Z"
   },
   {
    "duration": 301,
    "start_time": "2023-08-23T04:07:49.356Z"
   },
   {
    "duration": 412,
    "start_time": "2023-08-23T04:07:49.661Z"
   },
   {
    "duration": 220,
    "start_time": "2023-08-23T04:07:50.075Z"
   },
   {
    "duration": 7,
    "start_time": "2023-08-23T04:07:50.296Z"
   },
   {
    "duration": 297,
    "start_time": "2023-08-23T04:07:50.304Z"
   },
   {
    "duration": 5,
    "start_time": "2023-08-23T04:07:50.602Z"
   },
   {
    "duration": 26,
    "start_time": "2023-08-23T04:07:50.608Z"
   },
   {
    "duration": 76,
    "start_time": "2023-08-23T04:07:50.635Z"
   },
   {
    "duration": 8,
    "start_time": "2023-08-23T04:07:50.713Z"
   },
   {
    "duration": 9,
    "start_time": "2023-08-23T04:07:56.424Z"
   },
   {
    "duration": 38,
    "start_time": "2023-08-23T04:08:00.176Z"
   },
   {
    "duration": 23,
    "start_time": "2023-08-23T04:08:02.040Z"
   },
   {
    "duration": 39815,
    "start_time": "2023-08-23T04:08:25.056Z"
   },
   {
    "duration": 22592,
    "start_time": "2023-08-23T04:09:51.496Z"
   },
   {
    "duration": 1455,
    "start_time": "2023-08-23T04:10:21.466Z"
   },
   {
    "duration": 2092,
    "start_time": "2023-08-23T04:10:36.712Z"
   },
   {
    "duration": 40597,
    "start_time": "2023-08-23T04:15:20.847Z"
   },
   {
    "duration": 30,
    "start_time": "2023-08-23T04:16:33.078Z"
   },
   {
    "duration": 5,
    "start_time": "2023-08-23T04:16:43.585Z"
   },
   {
    "duration": 51,
    "start_time": "2023-08-23T04:16:43.593Z"
   },
   {
    "duration": 8,
    "start_time": "2023-08-23T04:16:43.645Z"
   },
   {
    "duration": 19,
    "start_time": "2023-08-23T04:16:43.654Z"
   },
   {
    "duration": 20,
    "start_time": "2023-08-23T04:16:43.677Z"
   },
   {
    "duration": 320,
    "start_time": "2023-08-23T04:16:43.699Z"
   },
   {
    "duration": 627,
    "start_time": "2023-08-23T04:16:44.021Z"
   },
   {
    "duration": 269,
    "start_time": "2023-08-23T04:16:44.650Z"
   },
   {
    "duration": 8,
    "start_time": "2023-08-23T04:16:44.921Z"
   },
   {
    "duration": 295,
    "start_time": "2023-08-23T04:16:44.931Z"
   },
   {
    "duration": 5,
    "start_time": "2023-08-23T04:16:45.227Z"
   },
   {
    "duration": 9,
    "start_time": "2023-08-23T04:16:45.234Z"
   },
   {
    "duration": 46,
    "start_time": "2023-08-23T04:16:45.244Z"
   },
   {
    "duration": 11,
    "start_time": "2023-08-23T04:16:45.293Z"
   },
   {
    "duration": 61,
    "start_time": "2023-08-23T04:16:45.306Z"
   },
   {
    "duration": 98,
    "start_time": "2023-08-23T04:16:45.369Z"
   },
   {
    "duration": 324864,
    "start_time": "2023-08-23T04:16:48.302Z"
   },
   {
    "duration": 6,
    "start_time": "2023-08-23T04:22:41.578Z"
   },
   {
    "duration": 25228,
    "start_time": "2023-08-23T04:22:53.747Z"
   },
   {
    "duration": 5,
    "start_time": "2023-08-23T04:24:46.882Z"
   },
   {
    "duration": 47,
    "start_time": "2023-08-23T04:24:46.889Z"
   },
   {
    "duration": 7,
    "start_time": "2023-08-23T04:24:46.938Z"
   },
   {
    "duration": 24,
    "start_time": "2023-08-23T04:24:46.947Z"
   },
   {
    "duration": 9,
    "start_time": "2023-08-23T04:24:46.975Z"
   },
   {
    "duration": 326,
    "start_time": "2023-08-23T04:24:46.986Z"
   },
   {
    "duration": 435,
    "start_time": "2023-08-23T04:24:47.314Z"
   },
   {
    "duration": 234,
    "start_time": "2023-08-23T04:24:47.750Z"
   },
   {
    "duration": 7,
    "start_time": "2023-08-23T04:24:47.986Z"
   },
   {
    "duration": 312,
    "start_time": "2023-08-23T04:24:47.995Z"
   },
   {
    "duration": 5,
    "start_time": "2023-08-23T04:24:48.309Z"
   },
   {
    "duration": 11,
    "start_time": "2023-08-23T04:24:48.315Z"
   },
   {
    "duration": 55,
    "start_time": "2023-08-23T04:24:48.328Z"
   },
   {
    "duration": 3,
    "start_time": "2023-08-23T04:24:48.385Z"
   },
   {
    "duration": 10,
    "start_time": "2023-08-23T04:24:52.109Z"
   },
   {
    "duration": 4,
    "start_time": "2023-08-23T04:26:29.803Z"
   },
   {
    "duration": 51,
    "start_time": "2023-08-23T04:26:29.809Z"
   },
   {
    "duration": 11,
    "start_time": "2023-08-23T04:26:29.863Z"
   },
   {
    "duration": 10,
    "start_time": "2023-08-23T04:26:29.879Z"
   },
   {
    "duration": 7,
    "start_time": "2023-08-23T04:26:29.891Z"
   },
   {
    "duration": 358,
    "start_time": "2023-08-23T04:26:29.900Z"
   },
   {
    "duration": 411,
    "start_time": "2023-08-23T04:26:30.260Z"
   },
   {
    "duration": 244,
    "start_time": "2023-08-23T04:26:30.673Z"
   },
   {
    "duration": 9,
    "start_time": "2023-08-23T04:26:30.919Z"
   },
   {
    "duration": 336,
    "start_time": "2023-08-23T04:26:30.930Z"
   },
   {
    "duration": 6,
    "start_time": "2023-08-23T04:26:31.269Z"
   },
   {
    "duration": 88,
    "start_time": "2023-08-23T04:26:31.276Z"
   },
   {
    "duration": 68,
    "start_time": "2023-08-23T04:26:31.366Z"
   },
   {
    "duration": 232,
    "start_time": "2023-08-23T04:31:54.661Z"
   },
   {
    "duration": 218,
    "start_time": "2023-08-23T04:32:13.213Z"
   },
   {
    "duration": 372,
    "start_time": "2023-08-23T04:32:20.997Z"
   },
   {
    "duration": 348,
    "start_time": "2023-08-23T04:32:24.916Z"
   },
   {
    "duration": 157,
    "start_time": "2023-08-23T04:33:08.332Z"
   },
   {
    "duration": 28,
    "start_time": "2023-08-23T04:33:18.451Z"
   },
   {
    "duration": 4,
    "start_time": "2023-08-23T04:33:23.188Z"
   },
   {
    "duration": 54,
    "start_time": "2023-08-23T04:33:23.194Z"
   },
   {
    "duration": 7,
    "start_time": "2023-08-23T04:33:23.250Z"
   },
   {
    "duration": 16,
    "start_time": "2023-08-23T04:33:23.260Z"
   },
   {
    "duration": 7,
    "start_time": "2023-08-23T04:33:23.280Z"
   },
   {
    "duration": 308,
    "start_time": "2023-08-23T04:33:23.289Z"
   },
   {
    "duration": 410,
    "start_time": "2023-08-23T04:33:23.598Z"
   },
   {
    "duration": 461,
    "start_time": "2023-08-23T04:33:24.010Z"
   },
   {
    "duration": 10,
    "start_time": "2023-08-23T04:33:24.482Z"
   },
   {
    "duration": 315,
    "start_time": "2023-08-23T04:33:24.494Z"
   },
   {
    "duration": 4,
    "start_time": "2023-08-23T04:33:24.811Z"
   },
   {
    "duration": 5,
    "start_time": "2023-08-23T04:33:27.885Z"
   },
   {
    "duration": 161,
    "start_time": "2023-08-23T04:33:29.479Z"
   },
   {
    "duration": 17,
    "start_time": "2023-08-23T04:33:33.174Z"
   },
   {
    "duration": 4,
    "start_time": "2023-08-23T04:33:55.114Z"
   },
   {
    "duration": 9,
    "start_time": "2023-08-23T04:33:56.539Z"
   },
   {
    "duration": 4,
    "start_time": "2023-08-23T04:33:59.284Z"
   },
   {
    "duration": 10,
    "start_time": "2023-08-23T04:34:00.499Z"
   },
   {
    "duration": 15,
    "start_time": "2023-08-23T04:34:03.189Z"
   },
   {
    "duration": 60,
    "start_time": "2023-08-23T04:34:03.208Z"
   },
   {
    "duration": 13,
    "start_time": "2023-08-23T04:34:03.270Z"
   },
   {
    "duration": 24,
    "start_time": "2023-08-23T04:34:03.286Z"
   },
   {
    "duration": 7,
    "start_time": "2023-08-23T04:34:03.316Z"
   },
   {
    "duration": 386,
    "start_time": "2023-08-23T04:34:03.325Z"
   },
   {
    "duration": 506,
    "start_time": "2023-08-23T04:34:03.713Z"
   },
   {
    "duration": 275,
    "start_time": "2023-08-23T04:34:04.221Z"
   },
   {
    "duration": 8,
    "start_time": "2023-08-23T04:34:04.498Z"
   },
   {
    "duration": 342,
    "start_time": "2023-08-23T04:34:04.507Z"
   },
   {
    "duration": 17,
    "start_time": "2023-08-23T04:34:04.851Z"
   },
   {
    "duration": 8,
    "start_time": "2023-08-23T04:34:04.877Z"
   },
   {
    "duration": 30,
    "start_time": "2023-08-23T04:34:04.887Z"
   },
   {
    "duration": 199,
    "start_time": "2023-08-23T04:34:04.920Z"
   },
   {
    "duration": 2090,
    "start_time": "2023-08-23T04:34:05.121Z"
   },
   {
    "duration": 191,
    "start_time": "2023-08-23T04:34:07.213Z"
   },
   {
    "duration": 5,
    "start_time": "2023-08-23T04:34:07.405Z"
   },
   {
    "duration": 4058,
    "start_time": "2023-08-23T04:34:07.411Z"
   },
   {
    "duration": 1549,
    "start_time": "2023-08-23T04:34:28.389Z"
   },
   {
    "duration": 64,
    "start_time": "2023-08-23T04:34:29.940Z"
   },
   {
    "duration": 11,
    "start_time": "2023-08-23T04:34:30.006Z"
   },
   {
    "duration": 37,
    "start_time": "2023-08-23T04:34:30.018Z"
   },
   {
    "duration": 32,
    "start_time": "2023-08-23T04:34:30.057Z"
   },
   {
    "duration": 365,
    "start_time": "2023-08-23T04:34:30.091Z"
   },
   {
    "duration": 456,
    "start_time": "2023-08-23T04:34:30.462Z"
   },
   {
    "duration": 317,
    "start_time": "2023-08-23T04:34:30.920Z"
   },
   {
    "duration": 7,
    "start_time": "2023-08-23T04:34:31.239Z"
   },
   {
    "duration": 307,
    "start_time": "2023-08-23T04:34:31.247Z"
   },
   {
    "duration": 14,
    "start_time": "2023-08-23T04:34:31.555Z"
   },
   {
    "duration": 68,
    "start_time": "2023-08-23T04:34:31.578Z"
   },
   {
    "duration": 7,
    "start_time": "2023-08-23T04:34:33.921Z"
   },
   {
    "duration": 278,
    "start_time": "2023-08-23T04:34:36.810Z"
   },
   {
    "duration": 13,
    "start_time": "2023-08-23T04:34:53.373Z"
   },
   {
    "duration": 157,
    "start_time": "2023-08-23T04:35:08.891Z"
   },
   {
    "duration": 25,
    "start_time": "2023-08-23T04:35:28.056Z"
   },
   {
    "duration": 5,
    "start_time": "2023-08-23T04:36:01.680Z"
   },
   {
    "duration": 163,
    "start_time": "2023-08-23T04:36:01.687Z"
   },
   {
    "duration": 15,
    "start_time": "2023-08-23T04:36:01.852Z"
   },
   {
    "duration": 27,
    "start_time": "2023-08-23T04:36:01.875Z"
   },
   {
    "duration": 24,
    "start_time": "2023-08-23T04:36:01.904Z"
   },
   {
    "duration": 338,
    "start_time": "2023-08-23T04:36:01.930Z"
   },
   {
    "duration": 415,
    "start_time": "2023-08-23T04:36:02.272Z"
   },
   {
    "duration": 242,
    "start_time": "2023-08-23T04:36:02.689Z"
   },
   {
    "duration": 9,
    "start_time": "2023-08-23T04:36:02.932Z"
   },
   {
    "duration": 337,
    "start_time": "2023-08-23T04:36:02.942Z"
   },
   {
    "duration": 5,
    "start_time": "2023-08-23T04:36:03.284Z"
   },
   {
    "duration": 5,
    "start_time": "2023-08-23T04:36:05.192Z"
   },
   {
    "duration": 7,
    "start_time": "2023-08-23T04:36:06.720Z"
   },
   {
    "duration": 152,
    "start_time": "2023-08-23T04:36:08.401Z"
   },
   {
    "duration": 10,
    "start_time": "2023-08-23T04:36:10.784Z"
   },
   {
    "duration": 10,
    "start_time": "2023-08-23T04:36:13.400Z"
   },
   {
    "duration": 4,
    "start_time": "2023-08-23T04:36:48.425Z"
   },
   {
    "duration": 62,
    "start_time": "2023-08-23T04:36:48.431Z"
   },
   {
    "duration": 7,
    "start_time": "2023-08-23T04:36:48.494Z"
   },
   {
    "duration": 10,
    "start_time": "2023-08-23T04:36:48.502Z"
   },
   {
    "duration": 6,
    "start_time": "2023-08-23T04:36:48.514Z"
   },
   {
    "duration": 334,
    "start_time": "2023-08-23T04:36:48.521Z"
   },
   {
    "duration": 427,
    "start_time": "2023-08-23T04:36:48.859Z"
   },
   {
    "duration": 224,
    "start_time": "2023-08-23T04:36:49.288Z"
   },
   {
    "duration": 7,
    "start_time": "2023-08-23T04:36:49.513Z"
   },
   {
    "duration": 408,
    "start_time": "2023-08-23T04:36:49.522Z"
   },
   {
    "duration": 4,
    "start_time": "2023-08-23T04:36:49.931Z"
   },
   {
    "duration": 5,
    "start_time": "2023-08-23T04:37:05.792Z"
   },
   {
    "duration": 7,
    "start_time": "2023-08-23T04:37:08.903Z"
   },
   {
    "duration": 2,
    "start_time": "2023-08-23T04:37:20.889Z"
   },
   {
    "duration": 5,
    "start_time": "2023-08-23T04:37:30.016Z"
   },
   {
    "duration": 8,
    "start_time": "2023-08-23T04:37:30.943Z"
   },
   {
    "duration": 4,
    "start_time": "2023-08-23T04:37:46.885Z"
   },
   {
    "duration": 48,
    "start_time": "2023-08-23T04:37:46.893Z"
   },
   {
    "duration": 6,
    "start_time": "2023-08-23T04:37:46.943Z"
   },
   {
    "duration": 9,
    "start_time": "2023-08-23T04:37:46.951Z"
   },
   {
    "duration": 21,
    "start_time": "2023-08-23T04:37:46.968Z"
   },
   {
    "duration": 316,
    "start_time": "2023-08-23T04:37:46.992Z"
   },
   {
    "duration": 432,
    "start_time": "2023-08-23T04:37:47.310Z"
   },
   {
    "duration": 238,
    "start_time": "2023-08-23T04:37:47.744Z"
   },
   {
    "duration": 8,
    "start_time": "2023-08-23T04:37:47.986Z"
   },
   {
    "duration": 297,
    "start_time": "2023-08-23T04:37:47.996Z"
   },
   {
    "duration": 4,
    "start_time": "2023-08-23T04:37:48.295Z"
   },
   {
    "duration": 15,
    "start_time": "2023-08-23T04:37:48.300Z"
   },
   {
    "duration": 3,
    "start_time": "2023-08-23T04:37:49.927Z"
   },
   {
    "duration": 16,
    "start_time": "2023-08-23T04:37:50.588Z"
   },
   {
    "duration": 8,
    "start_time": "2023-08-23T04:38:02.630Z"
   },
   {
    "duration": 4,
    "start_time": "2023-08-23T04:38:26.334Z"
   },
   {
    "duration": 76,
    "start_time": "2023-08-23T04:38:26.341Z"
   },
   {
    "duration": 7,
    "start_time": "2023-08-23T04:38:26.418Z"
   },
   {
    "duration": 8,
    "start_time": "2023-08-23T04:38:26.427Z"
   },
   {
    "duration": 6,
    "start_time": "2023-08-23T04:38:26.437Z"
   },
   {
    "duration": 309,
    "start_time": "2023-08-23T04:38:26.444Z"
   },
   {
    "duration": 468,
    "start_time": "2023-08-23T04:38:26.758Z"
   },
   {
    "duration": 223,
    "start_time": "2023-08-23T04:38:27.228Z"
   },
   {
    "duration": 19,
    "start_time": "2023-08-23T04:38:27.461Z"
   },
   {
    "duration": 295,
    "start_time": "2023-08-23T04:38:27.482Z"
   },
   {
    "duration": 8,
    "start_time": "2023-08-23T04:38:27.781Z"
   },
   {
    "duration": 5,
    "start_time": "2023-08-23T04:38:27.791Z"
   },
   {
    "duration": 13,
    "start_time": "2023-08-23T04:38:37.788Z"
   },
   {
    "duration": 4,
    "start_time": "2023-08-23T04:38:42.134Z"
   },
   {
    "duration": 8,
    "start_time": "2023-08-23T04:38:43.798Z"
   },
   {
    "duration": 13,
    "start_time": "2023-08-23T04:38:46.901Z"
   },
   {
    "duration": 177,
    "start_time": "2023-08-23T04:40:09.126Z"
   },
   {
    "duration": 257,
    "start_time": "2023-08-23T04:40:36.454Z"
   },
   {
    "duration": 6,
    "start_time": "2023-08-23T04:40:54.745Z"
   },
   {
    "duration": 143,
    "start_time": "2023-08-23T04:40:59.684Z"
   },
   {
    "duration": 15,
    "start_time": "2023-08-23T04:41:08.213Z"
   },
   {
    "duration": 22,
    "start_time": "2023-08-23T04:41:26.022Z"
   },
   {
    "duration": 26,
    "start_time": "2023-08-23T04:41:38.821Z"
   },
   {
    "duration": 26,
    "start_time": "2023-08-23T04:41:43.013Z"
   },
   {
    "duration": 48,
    "start_time": "2023-08-23T04:41:49.077Z"
   },
   {
    "duration": 65,
    "start_time": "2023-08-23T04:42:03.853Z"
   },
   {
    "duration": 71,
    "start_time": "2023-08-23T04:42:12.516Z"
   },
   {
    "duration": 59,
    "start_time": "2023-08-23T04:42:29.628Z"
   },
   {
    "duration": 9768,
    "start_time": "2023-08-23T04:42:41.724Z"
   },
   {
    "duration": 9346,
    "start_time": "2023-08-23T04:43:08.044Z"
   },
   {
    "duration": 60400,
    "start_time": "2023-08-23T04:43:28.603Z"
   },
   {
    "duration": 13170,
    "start_time": "2023-08-23T04:44:40.203Z"
   },
   {
    "duration": 12696,
    "start_time": "2023-08-23T04:45:18.290Z"
   },
   {
    "duration": 17214,
    "start_time": "2023-08-23T04:45:40.279Z"
   },
   {
    "duration": 27221,
    "start_time": "2023-08-23T04:46:09.050Z"
   },
   {
    "duration": 60,
    "start_time": "2023-08-23T04:47:50.270Z"
   },
   {
    "duration": 82,
    "start_time": "2023-08-23T04:48:04.386Z"
   },
   {
    "duration": 80620,
    "start_time": "2023-08-23T04:48:27.817Z"
   },
   {
    "duration": 5,
    "start_time": "2023-08-23T04:49:55.031Z"
   },
   {
    "duration": 86,
    "start_time": "2023-08-23T04:49:55.494Z"
   },
   {
    "duration": 35,
    "start_time": "2023-08-23T04:50:12.447Z"
   },
   {
    "duration": 21,
    "start_time": "2023-08-23T04:50:22.186Z"
   },
   {
    "duration": 105267,
    "start_time": "2023-08-23T04:50:46.304Z"
   },
   {
    "duration": 9398,
    "start_time": "2023-08-23T04:52:44.022Z"
   },
   {
    "duration": 9559,
    "start_time": "2023-08-23T04:53:07.245Z"
   },
   {
    "duration": 818,
    "start_time": "2023-08-23T04:53:37.284Z"
   },
   {
    "duration": 151,
    "start_time": "2023-08-23T04:53:56.724Z"
   },
   {
    "duration": 54,
    "start_time": "2023-08-23T04:54:05.221Z"
   },
   {
    "duration": 922,
    "start_time": "2023-08-23T04:54:18.445Z"
   },
   {
    "duration": 1446,
    "start_time": "2023-08-23T04:54:26.436Z"
   },
   {
    "duration": 4,
    "start_time": "2023-08-23T04:55:11.829Z"
   },
   {
    "duration": 65,
    "start_time": "2023-08-23T04:55:11.835Z"
   },
   {
    "duration": 7,
    "start_time": "2023-08-23T04:55:11.902Z"
   },
   {
    "duration": 12,
    "start_time": "2023-08-23T04:55:11.910Z"
   },
   {
    "duration": 6,
    "start_time": "2023-08-23T04:55:11.924Z"
   },
   {
    "duration": 310,
    "start_time": "2023-08-23T04:55:11.931Z"
   },
   {
    "duration": 423,
    "start_time": "2023-08-23T04:55:12.243Z"
   },
   {
    "duration": 217,
    "start_time": "2023-08-23T04:55:12.670Z"
   },
   {
    "duration": 8,
    "start_time": "2023-08-23T04:55:12.888Z"
   },
   {
    "duration": 318,
    "start_time": "2023-08-23T04:55:12.897Z"
   },
   {
    "duration": 5,
    "start_time": "2023-08-23T04:55:13.216Z"
   },
   {
    "duration": 30664,
    "start_time": "2023-08-23T04:55:13.222Z"
   },
   {
    "duration": 212,
    "start_time": "2023-08-23T04:55:43.890Z"
   },
   {
    "duration": 86,
    "start_time": "2023-08-23T04:55:44.105Z"
   },
   {
    "duration": 77835,
    "start_time": "2023-08-23T04:55:44.193Z"
   },
   {
    "duration": 25388,
    "start_time": "2023-08-23T04:57:02.030Z"
   },
   {
    "duration": 12,
    "start_time": "2023-08-23T04:57:38.769Z"
   },
   {
    "duration": 509,
    "start_time": "2023-08-23T04:57:42.870Z"
   },
   {
    "duration": 9,
    "start_time": "2023-08-23T04:58:04.669Z"
   },
   {
    "duration": 5,
    "start_time": "2023-08-23T04:58:22.783Z"
   },
   {
    "duration": 14,
    "start_time": "2023-08-23T04:58:51.000Z"
   },
   {
    "duration": 6,
    "start_time": "2023-08-23T04:58:51.848Z"
   },
   {
    "duration": 7,
    "start_time": "2023-08-23T05:01:49.070Z"
   },
   {
    "duration": 47,
    "start_time": "2023-08-23T05:01:49.080Z"
   },
   {
    "duration": 6,
    "start_time": "2023-08-23T05:01:49.129Z"
   },
   {
    "duration": 7,
    "start_time": "2023-08-23T05:01:49.137Z"
   },
   {
    "duration": 9,
    "start_time": "2023-08-23T05:01:49.147Z"
   },
   {
    "duration": 330,
    "start_time": "2023-08-23T05:01:49.157Z"
   },
   {
    "duration": 426,
    "start_time": "2023-08-23T05:01:49.489Z"
   },
   {
    "duration": 233,
    "start_time": "2023-08-23T05:01:49.917Z"
   },
   {
    "duration": 12,
    "start_time": "2023-08-23T05:01:50.159Z"
   },
   {
    "duration": 292,
    "start_time": "2023-08-23T05:01:50.175Z"
   },
   {
    "duration": 4,
    "start_time": "2023-08-23T05:01:50.469Z"
   },
   {
    "duration": 37668,
    "start_time": "2023-08-23T05:02:08.641Z"
   },
   {
    "duration": 437321,
    "start_time": "2023-08-23T05:04:44.042Z"
   },
   {
    "duration": 69180,
    "start_time": "2023-08-23T05:12:41.010Z"
   },
   {
    "duration": 9,
    "start_time": "2023-08-23T05:13:55.581Z"
   },
   {
    "duration": 16928,
    "start_time": "2023-08-23T05:14:01.401Z"
   },
   {
    "duration": 180039,
    "start_time": "2023-08-23T05:14:21.026Z"
   },
   {
    "duration": 1622,
    "start_time": "2023-08-23T05:19:41.680Z"
   },
   {
    "duration": 48,
    "start_time": "2023-08-23T05:19:43.304Z"
   },
   {
    "duration": 20,
    "start_time": "2023-08-23T05:19:43.356Z"
   },
   {
    "duration": 14,
    "start_time": "2023-08-23T05:19:43.382Z"
   },
   {
    "duration": 15,
    "start_time": "2023-08-23T05:19:43.397Z"
   },
   {
    "duration": 366,
    "start_time": "2023-08-23T05:19:43.414Z"
   },
   {
    "duration": 502,
    "start_time": "2023-08-23T05:19:43.782Z"
   },
   {
    "duration": 400,
    "start_time": "2023-08-23T05:19:44.291Z"
   },
   {
    "duration": 8,
    "start_time": "2023-08-23T05:19:44.693Z"
   },
   {
    "duration": 322,
    "start_time": "2023-08-23T05:19:44.702Z"
   },
   {
    "duration": 4,
    "start_time": "2023-08-23T05:19:45.026Z"
   },
   {
    "duration": 1072,
    "start_time": "2023-08-23T05:19:45.032Z"
   },
   {
    "duration": 54,
    "start_time": "2023-08-23T05:19:46.110Z"
   },
   {
    "duration": 145,
    "start_time": "2023-08-23T05:19:46.167Z"
   },
   {
    "duration": 31222,
    "start_time": "2023-08-23T05:19:46.314Z"
   },
   {
    "duration": 3752,
    "start_time": "2023-08-23T05:20:17.537Z"
   },
   {
    "duration": 5,
    "start_time": "2023-08-23T05:20:21.291Z"
   },
   {
    "duration": 95,
    "start_time": "2023-08-23T05:20:21.297Z"
   },
   {
    "duration": 148,
    "start_time": "2023-08-23T05:20:21.460Z"
   },
   {
    "duration": 0,
    "start_time": "2023-08-23T05:20:21.610Z"
   },
   {
    "duration": 530,
    "start_time": "2023-08-23T05:20:24.009Z"
   },
   {
    "duration": 35391,
    "start_time": "2023-08-23T05:20:48.678Z"
   },
   {
    "duration": 38,
    "start_time": "2023-08-23T05:21:40.720Z"
   },
   {
    "duration": 80,
    "start_time": "2023-08-23T05:21:45.256Z"
   },
   {
    "duration": 88645,
    "start_time": "2023-08-23T05:21:52.379Z"
   },
   {
    "duration": 26920,
    "start_time": "2023-08-23T05:23:26.752Z"
   },
   {
    "duration": 19,
    "start_time": "2023-08-23T05:24:08.359Z"
   },
   {
    "duration": 61,
    "start_time": "2023-08-23T05:24:10.422Z"
   },
   {
    "duration": 5,
    "start_time": "2023-08-23T05:24:13.935Z"
   },
   {
    "duration": 1719,
    "start_time": "2023-08-23T05:24:38.831Z"
   },
   {
    "duration": 65,
    "start_time": "2023-08-23T05:24:40.552Z"
   },
   {
    "duration": 12,
    "start_time": "2023-08-23T05:24:40.619Z"
   },
   {
    "duration": 19,
    "start_time": "2023-08-23T05:24:40.633Z"
   },
   {
    "duration": 20,
    "start_time": "2023-08-23T05:24:40.654Z"
   },
   {
    "duration": 324,
    "start_time": "2023-08-23T05:24:40.676Z"
   },
   {
    "duration": 424,
    "start_time": "2023-08-23T05:24:41.002Z"
   },
   {
    "duration": 339,
    "start_time": "2023-08-23T05:24:41.428Z"
   },
   {
    "duration": 11,
    "start_time": "2023-08-23T05:24:41.771Z"
   },
   {
    "duration": 534,
    "start_time": "2023-08-23T05:24:41.784Z"
   },
   {
    "duration": 4,
    "start_time": "2023-08-23T05:24:42.320Z"
   },
   {
    "duration": 35154,
    "start_time": "2023-08-23T05:24:42.325Z"
   },
   {
    "duration": 201,
    "start_time": "2023-08-23T05:25:17.484Z"
   },
   {
    "duration": 53,
    "start_time": "2023-08-23T05:25:17.692Z"
   },
   {
    "duration": 85272,
    "start_time": "2023-08-23T05:25:17.747Z"
   },
   {
    "duration": 6579,
    "start_time": "2023-08-23T05:26:43.021Z"
   },
   {
    "duration": 0,
    "start_time": "2023-08-23T05:26:49.602Z"
   },
   {
    "duration": 0,
    "start_time": "2023-08-23T05:26:49.603Z"
   },
   {
    "duration": 0,
    "start_time": "2023-08-23T05:26:49.604Z"
   },
   {
    "duration": 28,
    "start_time": "2023-08-23T05:27:39.342Z"
   },
   {
    "duration": 1617,
    "start_time": "2023-08-23T05:28:00.284Z"
   },
   {
    "duration": 52,
    "start_time": "2023-08-23T05:28:01.904Z"
   },
   {
    "duration": 41,
    "start_time": "2023-08-23T05:28:01.958Z"
   },
   {
    "duration": 78,
    "start_time": "2023-08-23T05:28:02.000Z"
   },
   {
    "duration": 39,
    "start_time": "2023-08-23T05:28:02.084Z"
   },
   {
    "duration": 521,
    "start_time": "2023-08-23T05:28:02.125Z"
   },
   {
    "duration": 478,
    "start_time": "2023-08-23T05:28:02.648Z"
   },
   {
    "duration": 345,
    "start_time": "2023-08-23T05:28:03.130Z"
   },
   {
    "duration": 11,
    "start_time": "2023-08-23T05:28:03.479Z"
   },
   {
    "duration": 317,
    "start_time": "2023-08-23T05:28:03.492Z"
   },
   {
    "duration": 4,
    "start_time": "2023-08-23T05:28:03.811Z"
   },
   {
    "duration": 40171,
    "start_time": "2023-08-23T05:28:03.817Z"
   },
   {
    "duration": 87,
    "start_time": "2023-08-23T05:28:44.000Z"
   },
   {
    "duration": 59,
    "start_time": "2023-08-23T05:28:44.094Z"
   },
   {
    "duration": 34032,
    "start_time": "2023-08-23T05:28:44.155Z"
   },
   {
    "duration": 4825,
    "start_time": "2023-08-23T05:29:18.189Z"
   },
   {
    "duration": 5,
    "start_time": "2023-08-23T05:29:23.016Z"
   },
   {
    "duration": 19,
    "start_time": "2023-08-23T05:29:23.023Z"
   },
   {
    "duration": 22,
    "start_time": "2023-08-23T05:29:23.064Z"
   },
   {
    "duration": 1694,
    "start_time": "2023-08-23T05:30:25.678Z"
   },
   {
    "duration": 55,
    "start_time": "2023-08-23T05:30:27.381Z"
   },
   {
    "duration": 10,
    "start_time": "2023-08-23T05:30:27.438Z"
   },
   {
    "duration": 38,
    "start_time": "2023-08-23T05:30:27.450Z"
   },
   {
    "duration": 9,
    "start_time": "2023-08-23T05:30:27.491Z"
   },
   {
    "duration": 341,
    "start_time": "2023-08-23T05:30:27.501Z"
   },
   {
    "duration": 473,
    "start_time": "2023-08-23T05:30:27.844Z"
   },
   {
    "duration": 333,
    "start_time": "2023-08-23T05:30:28.318Z"
   },
   {
    "duration": 17,
    "start_time": "2023-08-23T05:30:28.653Z"
   },
   {
    "duration": 302,
    "start_time": "2023-08-23T05:30:28.679Z"
   },
   {
    "duration": 5,
    "start_time": "2023-08-23T05:30:28.983Z"
   },
   {
    "duration": 39000,
    "start_time": "2023-08-23T05:30:28.991Z"
   },
   {
    "duration": 108,
    "start_time": "2023-08-23T05:31:07.993Z"
   },
   {
    "duration": 117,
    "start_time": "2023-08-23T05:31:08.104Z"
   },
   {
    "duration": 83684,
    "start_time": "2023-08-23T05:31:08.223Z"
   },
   {
    "duration": 15672,
    "start_time": "2023-08-23T05:32:31.909Z"
   },
   {
    "duration": 6,
    "start_time": "2023-08-23T05:32:47.583Z"
   },
   {
    "duration": 385,
    "start_time": "2023-08-23T05:32:47.594Z"
   },
   {
    "duration": 14,
    "start_time": "2023-08-23T05:32:48.062Z"
   },
   {
    "duration": 512,
    "start_time": "2023-08-23T05:36:02.636Z"
   },
   {
    "duration": 677,
    "start_time": "2023-08-23T05:36:10.816Z"
   },
   {
    "duration": 491,
    "start_time": "2023-08-23T05:36:19.800Z"
   },
   {
    "duration": 493,
    "start_time": "2023-08-23T05:36:26.016Z"
   },
   {
    "duration": 650,
    "start_time": "2023-08-23T05:36:31.496Z"
   },
   {
    "duration": 1289,
    "start_time": "2023-08-23T06:02:59.641Z"
   },
   {
    "duration": 114,
    "start_time": "2023-08-23T06:03:00.932Z"
   },
   {
    "duration": 10,
    "start_time": "2023-08-23T06:03:01.048Z"
   },
   {
    "duration": 36,
    "start_time": "2023-08-23T06:03:01.060Z"
   },
   {
    "duration": 30,
    "start_time": "2023-08-23T06:03:01.098Z"
   },
   {
    "duration": 335,
    "start_time": "2023-08-23T06:03:01.130Z"
   },
   {
    "duration": 445,
    "start_time": "2023-08-23T06:03:01.466Z"
   },
   {
    "duration": 284,
    "start_time": "2023-08-23T06:03:01.912Z"
   },
   {
    "duration": 7,
    "start_time": "2023-08-23T06:03:02.197Z"
   },
   {
    "duration": 316,
    "start_time": "2023-08-23T06:03:02.205Z"
   },
   {
    "duration": 5,
    "start_time": "2023-08-23T06:03:02.523Z"
   },
   {
    "duration": 20354,
    "start_time": "2023-08-23T06:03:02.529Z"
   },
   {
    "duration": 45,
    "start_time": "2023-08-23T06:03:22.885Z"
   },
   {
    "duration": 59,
    "start_time": "2023-08-23T06:03:22.983Z"
   },
   {
    "duration": 71160,
    "start_time": "2023-08-23T06:03:23.044Z"
   },
   {
    "duration": 18798,
    "start_time": "2023-08-23T06:04:34.205Z"
   },
   {
    "duration": 5,
    "start_time": "2023-08-23T06:04:53.004Z"
   },
   {
    "duration": 186,
    "start_time": "2023-08-23T06:04:53.010Z"
   },
   {
    "duration": 86,
    "start_time": "2023-08-23T06:04:53.199Z"
   },
   {
    "duration": 412,
    "start_time": "2023-08-23T06:59:00.075Z"
   },
   {
    "duration": 1939,
    "start_time": "2023-08-23T10:45:44.155Z"
   },
   {
    "duration": 149,
    "start_time": "2023-08-23T10:45:46.097Z"
   },
   {
    "duration": 12,
    "start_time": "2023-08-23T10:45:47.711Z"
   },
   {
    "duration": 10,
    "start_time": "2023-08-23T10:45:48.319Z"
   },
   {
    "duration": 7,
    "start_time": "2023-08-23T10:45:51.927Z"
   },
   {
    "duration": 513,
    "start_time": "2023-08-23T10:46:09.216Z"
   },
   {
    "duration": 514,
    "start_time": "2023-08-23T10:46:22.385Z"
   },
   {
    "duration": 510,
    "start_time": "2023-08-23T10:47:00.103Z"
   },
   {
    "duration": 252,
    "start_time": "2023-08-23T10:47:03.680Z"
   },
   {
    "duration": 10,
    "start_time": "2023-08-23T10:47:06.390Z"
   },
   {
    "duration": 442,
    "start_time": "2023-08-23T10:47:06.942Z"
   },
   {
    "duration": 795,
    "start_time": "2023-08-23T10:49:08.808Z"
   },
   {
    "duration": 771,
    "start_time": "2023-08-23T10:49:53.570Z"
   },
   {
    "duration": 858,
    "start_time": "2023-08-23T10:50:02.511Z"
   },
   {
    "duration": 885,
    "start_time": "2023-08-23T10:50:26.566Z"
   },
   {
    "duration": 851,
    "start_time": "2023-08-23T10:50:31.118Z"
   },
   {
    "duration": 13,
    "start_time": "2023-08-23T10:52:44.686Z"
   },
   {
    "duration": 14,
    "start_time": "2023-08-23T10:52:52.069Z"
   },
   {
    "duration": 12,
    "start_time": "2023-08-23T10:52:59.765Z"
   },
   {
    "duration": 18,
    "start_time": "2023-08-23T10:53:44.646Z"
   },
   {
    "duration": 9,
    "start_time": "2023-08-23T10:53:52.998Z"
   },
   {
    "duration": 43,
    "start_time": "2023-08-23T10:54:09.237Z"
   },
   {
    "duration": 11,
    "start_time": "2023-08-23T10:54:09.886Z"
   },
   {
    "duration": 15,
    "start_time": "2023-08-23T10:54:10.286Z"
   },
   {
    "duration": 9,
    "start_time": "2023-08-23T10:54:13.990Z"
   },
   {
    "duration": 11,
    "start_time": "2023-08-23T10:54:20.205Z"
   },
   {
    "duration": 12,
    "start_time": "2023-08-23T10:54:29.292Z"
   },
   {
    "duration": 7,
    "start_time": "2023-08-23T10:54:32.525Z"
   },
   {
    "duration": 12,
    "start_time": "2023-08-23T10:54:39.356Z"
   },
   {
    "duration": 13,
    "start_time": "2023-08-23T10:55:18.013Z"
   },
   {
    "duration": 19,
    "start_time": "2023-08-23T10:55:29.981Z"
   },
   {
    "duration": 5,
    "start_time": "2023-08-23T10:55:49.702Z"
   },
   {
    "duration": 5,
    "start_time": "2023-08-23T10:56:09.500Z"
   },
   {
    "duration": 324,
    "start_time": "2023-08-23T10:56:41.964Z"
   },
   {
    "duration": 5,
    "start_time": "2023-08-23T10:57:20.509Z"
   },
   {
    "duration": 82,
    "start_time": "2023-08-23T10:57:20.516Z"
   },
   {
    "duration": 7,
    "start_time": "2023-08-23T10:57:20.600Z"
   },
   {
    "duration": 39,
    "start_time": "2023-08-23T10:57:20.609Z"
   },
   {
    "duration": 52,
    "start_time": "2023-08-23T10:57:20.651Z"
   },
   {
    "duration": 447,
    "start_time": "2023-08-23T10:57:20.704Z"
   },
   {
    "duration": 773,
    "start_time": "2023-08-23T10:57:21.154Z"
   },
   {
    "duration": 343,
    "start_time": "2023-08-23T10:57:21.929Z"
   },
   {
    "duration": 10,
    "start_time": "2023-08-23T10:57:22.274Z"
   },
   {
    "duration": 456,
    "start_time": "2023-08-23T10:57:22.286Z"
   },
   {
    "duration": 7,
    "start_time": "2023-08-23T10:57:22.744Z"
   },
   {
    "duration": 28,
    "start_time": "2023-08-23T10:57:22.752Z"
   },
   {
    "duration": 20,
    "start_time": "2023-08-23T10:57:25.349Z"
   },
   {
    "duration": 319,
    "start_time": "2023-08-23T10:57:27.374Z"
   },
   {
    "duration": 11,
    "start_time": "2023-08-23T10:58:37.109Z"
   },
   {
    "duration": 9,
    "start_time": "2023-08-23T10:59:01.436Z"
   },
   {
    "duration": 329,
    "start_time": "2023-08-23T10:59:06.795Z"
   },
   {
    "duration": 852,
    "start_time": "2023-08-23T11:00:03.780Z"
   },
   {
    "duration": 830,
    "start_time": "2023-08-23T11:01:16.915Z"
   },
   {
    "duration": 172,
    "start_time": "2023-08-23T11:02:21.077Z"
   },
   {
    "duration": 212,
    "start_time": "2023-08-23T11:02:43.539Z"
   },
   {
    "duration": 206,
    "start_time": "2023-08-23T11:02:47.135Z"
   },
   {
    "duration": 238,
    "start_time": "2023-08-23T11:03:04.172Z"
   },
   {
    "duration": 311,
    "start_time": "2023-08-23T11:03:33.899Z"
   },
   {
    "duration": 235,
    "start_time": "2023-08-23T11:03:52.796Z"
   },
   {
    "duration": 14,
    "start_time": "2023-08-23T11:05:05.194Z"
   },
   {
    "duration": 5,
    "start_time": "2023-08-23T11:05:08.226Z"
   },
   {
    "duration": 11,
    "start_time": "2023-08-23T11:05:12.947Z"
   },
   {
    "duration": 9,
    "start_time": "2023-08-23T11:05:18.994Z"
   },
   {
    "duration": 2463,
    "start_time": "2023-08-23T11:05:30.643Z"
   },
   {
    "duration": 13,
    "start_time": "2023-08-23T11:05:41.675Z"
   },
   {
    "duration": 2392,
    "start_time": "2023-08-23T11:05:45.810Z"
   },
   {
    "duration": 7,
    "start_time": "2023-08-23T11:05:54.073Z"
   },
   {
    "duration": 13,
    "start_time": "2023-08-23T11:05:58.857Z"
   },
   {
    "duration": 6,
    "start_time": "2023-08-23T11:06:01.490Z"
   },
   {
    "duration": 6,
    "start_time": "2023-08-23T11:06:10.762Z"
   },
   {
    "duration": 6,
    "start_time": "2023-08-23T11:06:16.634Z"
   },
   {
    "duration": 223,
    "start_time": "2023-08-23T11:06:24.492Z"
   },
   {
    "duration": 280,
    "start_time": "2023-08-23T11:07:23.538Z"
   },
   {
    "duration": 237,
    "start_time": "2023-08-23T11:08:19.587Z"
   },
   {
    "duration": 8,
    "start_time": "2023-08-23T11:08:28.067Z"
   },
   {
    "duration": 7,
    "start_time": "2023-08-23T11:08:34.906Z"
   },
   {
    "duration": 197,
    "start_time": "2023-08-23T11:08:35.547Z"
   },
   {
    "duration": 7,
    "start_time": "2023-08-23T11:08:41.466Z"
   },
   {
    "duration": 216,
    "start_time": "2023-08-23T11:08:42.299Z"
   },
   {
    "duration": 10,
    "start_time": "2023-08-23T11:08:47.762Z"
   },
   {
    "duration": 213,
    "start_time": "2023-08-23T11:08:49.126Z"
   },
   {
    "duration": 340,
    "start_time": "2023-08-23T11:08:51.986Z"
   },
   {
    "duration": 207,
    "start_time": "2023-08-23T11:09:39.037Z"
   },
   {
    "duration": 214,
    "start_time": "2023-08-23T11:09:44.402Z"
   },
   {
    "duration": 211,
    "start_time": "2023-08-23T11:10:05.434Z"
   },
   {
    "duration": 240,
    "start_time": "2023-08-23T11:10:21.858Z"
   },
   {
    "duration": 215,
    "start_time": "2023-08-23T11:11:26.058Z"
   },
   {
    "duration": 244,
    "start_time": "2023-08-23T11:11:32.146Z"
   },
   {
    "duration": 8,
    "start_time": "2023-08-23T11:11:44.786Z"
   },
   {
    "duration": 9,
    "start_time": "2023-08-23T11:11:53.546Z"
   },
   {
    "duration": 248,
    "start_time": "2023-08-23T11:11:56.730Z"
   },
   {
    "duration": 4,
    "start_time": "2023-08-23T11:15:44.501Z"
   },
   {
    "duration": 8,
    "start_time": "2023-08-23T11:15:48.952Z"
   },
   {
    "duration": 419,
    "start_time": "2023-08-23T11:17:24.464Z"
   },
   {
    "duration": 355,
    "start_time": "2023-08-23T11:17:27.912Z"
   },
   {
    "duration": 352,
    "start_time": "2023-08-23T11:17:42.799Z"
   },
   {
    "duration": 340,
    "start_time": "2023-08-23T11:17:46.641Z"
   },
   {
    "duration": 351,
    "start_time": "2023-08-23T11:17:56.570Z"
   },
   {
    "duration": 471,
    "start_time": "2023-08-23T11:18:05.112Z"
   },
   {
    "duration": 342,
    "start_time": "2023-08-23T11:18:31.048Z"
   },
   {
    "duration": 370,
    "start_time": "2023-08-23T11:18:38.024Z"
   },
   {
    "duration": 370,
    "start_time": "2023-08-23T11:18:43.833Z"
   },
   {
    "duration": 332,
    "start_time": "2023-08-23T11:18:48.447Z"
   },
   {
    "duration": 21843,
    "start_time": "2023-08-23T11:20:17.608Z"
   },
   {
    "duration": 74939,
    "start_time": "2023-08-23T11:20:55.640Z"
   },
   {
    "duration": 113419,
    "start_time": "2023-08-23T11:22:20.367Z"
   },
   {
    "duration": 375,
    "start_time": "2023-08-23T11:29:16.421Z"
   },
   {
    "duration": 306,
    "start_time": "2023-08-23T11:29:39.254Z"
   },
   {
    "duration": 131,
    "start_time": "2023-08-23T11:31:45.837Z"
   },
   {
    "duration": 28,
    "start_time": "2023-08-23T11:31:50.486Z"
   },
   {
    "duration": 14,
    "start_time": "2023-08-23T11:34:05.054Z"
   },
   {
    "duration": 1100,
    "start_time": "2023-08-23T11:34:21.773Z"
   },
   {
    "duration": 4,
    "start_time": "2023-08-23T11:34:41.991Z"
   },
   {
    "duration": 61,
    "start_time": "2023-08-23T11:34:41.997Z"
   },
   {
    "duration": 7,
    "start_time": "2023-08-23T11:34:42.060Z"
   },
   {
    "duration": 14,
    "start_time": "2023-08-23T11:34:42.068Z"
   },
   {
    "duration": 7,
    "start_time": "2023-08-23T11:34:42.084Z"
   },
   {
    "duration": 405,
    "start_time": "2023-08-23T11:34:42.092Z"
   },
   {
    "duration": 872,
    "start_time": "2023-08-23T11:34:42.499Z"
   },
   {
    "duration": 238,
    "start_time": "2023-08-23T11:34:43.373Z"
   },
   {
    "duration": 8,
    "start_time": "2023-08-23T11:34:43.613Z"
   },
   {
    "duration": 402,
    "start_time": "2023-08-23T11:34:43.623Z"
   },
   {
    "duration": 9,
    "start_time": "2023-08-23T11:34:44.029Z"
   },
   {
    "duration": 374,
    "start_time": "2023-08-23T11:34:44.040Z"
   },
   {
    "duration": 700,
    "start_time": "2023-08-23T11:34:44.416Z"
   },
   {
    "duration": 353,
    "start_time": "2023-08-23T11:34:45.119Z"
   },
   {
    "duration": 5,
    "start_time": "2023-08-23T11:34:45.473Z"
   },
   {
    "duration": 24,
    "start_time": "2023-08-23T11:34:45.480Z"
   },
   {
    "duration": 119,
    "start_time": "2023-08-23T11:34:47.021Z"
   },
   {
    "duration": 5,
    "start_time": "2023-08-23T11:34:53.966Z"
   },
   {
    "duration": 86,
    "start_time": "2023-08-23T11:34:53.974Z"
   },
   {
    "duration": 9,
    "start_time": "2023-08-23T11:34:54.062Z"
   },
   {
    "duration": 27,
    "start_time": "2023-08-23T11:34:54.072Z"
   },
   {
    "duration": 18,
    "start_time": "2023-08-23T11:34:54.103Z"
   },
   {
    "duration": 462,
    "start_time": "2023-08-23T11:34:54.124Z"
   },
   {
    "duration": 745,
    "start_time": "2023-08-23T11:34:54.588Z"
   },
   {
    "duration": 225,
    "start_time": "2023-08-23T11:34:55.335Z"
   },
   {
    "duration": 8,
    "start_time": "2023-08-23T11:34:55.561Z"
   },
   {
    "duration": 527,
    "start_time": "2023-08-23T11:34:55.570Z"
   },
   {
    "duration": 7,
    "start_time": "2023-08-23T11:34:56.099Z"
   },
   {
    "duration": 420,
    "start_time": "2023-08-23T11:34:56.108Z"
   },
   {
    "duration": 711,
    "start_time": "2023-08-23T11:34:56.530Z"
   },
   {
    "duration": 241,
    "start_time": "2023-08-23T11:34:57.244Z"
   },
   {
    "duration": 5,
    "start_time": "2023-08-23T11:34:57.487Z"
   },
   {
    "duration": 22,
    "start_time": "2023-08-23T11:34:57.494Z"
   },
   {
    "duration": 8,
    "start_time": "2023-08-23T11:35:40.229Z"
   },
   {
    "duration": 124,
    "start_time": "2023-08-23T11:35:47.540Z"
   },
   {
    "duration": 26,
    "start_time": "2023-08-23T11:35:48.100Z"
   },
   {
    "duration": 18,
    "start_time": "2023-08-23T11:35:54.596Z"
   },
   {
    "duration": 2159,
    "start_time": "2023-08-23T11:35:55.628Z"
   },
   {
    "duration": 6,
    "start_time": "2023-08-23T11:36:43.550Z"
   },
   {
    "duration": 77,
    "start_time": "2023-08-23T11:36:43.558Z"
   },
   {
    "duration": 7,
    "start_time": "2023-08-23T11:36:43.637Z"
   },
   {
    "duration": 47,
    "start_time": "2023-08-23T11:36:43.645Z"
   },
   {
    "duration": 19,
    "start_time": "2023-08-23T11:36:43.694Z"
   },
   {
    "duration": 476,
    "start_time": "2023-08-23T11:36:43.714Z"
   },
   {
    "duration": 899,
    "start_time": "2023-08-23T11:36:44.193Z"
   },
   {
    "duration": 236,
    "start_time": "2023-08-23T11:36:45.096Z"
   },
   {
    "duration": 9,
    "start_time": "2023-08-23T11:36:45.335Z"
   },
   {
    "duration": 433,
    "start_time": "2023-08-23T11:36:45.345Z"
   },
   {
    "duration": 9,
    "start_time": "2023-08-23T11:36:45.779Z"
   },
   {
    "duration": 350,
    "start_time": "2023-08-23T11:36:45.790Z"
   },
   {
    "duration": 749,
    "start_time": "2023-08-23T11:36:46.142Z"
   },
   {
    "duration": 240,
    "start_time": "2023-08-23T11:36:46.894Z"
   },
   {
    "duration": 5,
    "start_time": "2023-08-23T11:36:47.135Z"
   },
   {
    "duration": 45,
    "start_time": "2023-08-23T11:36:47.141Z"
   },
   {
    "duration": 124,
    "start_time": "2023-08-23T11:36:47.188Z"
   },
   {
    "duration": 15,
    "start_time": "2023-08-23T11:36:53.300Z"
   },
   {
    "duration": 1760,
    "start_time": "2023-08-23T11:36:53.732Z"
   },
   {
    "duration": 233737,
    "start_time": "2023-08-23T11:37:11.586Z"
   },
   {
    "duration": 58375,
    "start_time": "2023-08-23T11:41:12.186Z"
   },
   {
    "duration": 9,
    "start_time": "2023-08-23T11:42:30.376Z"
   },
   {
    "duration": 9337,
    "start_time": "2023-08-23T11:42:47.251Z"
   },
   {
    "duration": 9498,
    "start_time": "2023-08-23T11:43:01.123Z"
   },
   {
    "duration": 7890,
    "start_time": "2023-08-23T11:43:24.741Z"
   },
   {
    "duration": 232002,
    "start_time": "2023-08-23T11:44:05.323Z"
   },
   {
    "duration": 4,
    "start_time": "2023-08-23T11:49:27.028Z"
   },
   {
    "duration": 68,
    "start_time": "2023-08-23T11:49:27.034Z"
   },
   {
    "duration": 9,
    "start_time": "2023-08-23T11:49:27.104Z"
   },
   {
    "duration": 21,
    "start_time": "2023-08-23T11:49:27.115Z"
   },
   {
    "duration": 142,
    "start_time": "2023-08-23T11:49:27.139Z"
   },
   {
    "duration": 428,
    "start_time": "2023-08-23T11:49:27.284Z"
   },
   {
    "duration": 778,
    "start_time": "2023-08-23T11:49:27.714Z"
   },
   {
    "duration": 233,
    "start_time": "2023-08-23T11:49:28.494Z"
   },
   {
    "duration": 9,
    "start_time": "2023-08-23T11:49:28.729Z"
   },
   {
    "duration": 479,
    "start_time": "2023-08-23T11:49:28.739Z"
   },
   {
    "duration": 7,
    "start_time": "2023-08-23T11:49:29.220Z"
   },
   {
    "duration": 484,
    "start_time": "2023-08-23T11:49:29.229Z"
   },
   {
    "duration": 784,
    "start_time": "2023-08-23T11:49:29.716Z"
   },
   {
    "duration": 253,
    "start_time": "2023-08-23T11:49:30.503Z"
   },
   {
    "duration": 8,
    "start_time": "2023-08-23T11:49:30.759Z"
   },
   {
    "duration": 75,
    "start_time": "2023-08-23T11:49:30.768Z"
   },
   {
    "duration": 168,
    "start_time": "2023-08-23T11:49:34.044Z"
   },
   {
    "duration": 16,
    "start_time": "2023-08-23T11:49:34.594Z"
   },
   {
    "duration": 1589,
    "start_time": "2023-08-23T11:49:34.898Z"
   },
   {
    "duration": 30377,
    "start_time": "2023-08-23T11:49:54.987Z"
   },
   {
    "duration": 32880,
    "start_time": "2023-08-23T11:50:33.917Z"
   },
   {
    "duration": 54693,
    "start_time": "2023-08-23T11:51:11.484Z"
   },
   {
    "duration": 66614,
    "start_time": "2023-08-23T11:52:14.266Z"
   },
   {
    "duration": 9,
    "start_time": "2023-08-23T11:53:40.146Z"
   },
   {
    "duration": 7998,
    "start_time": "2023-08-23T11:53:40.827Z"
   },
   {
    "duration": 7529,
    "start_time": "2023-08-23T11:53:55.886Z"
   },
   {
    "duration": 4,
    "start_time": "2023-08-23T11:54:43.249Z"
   },
   {
    "duration": 72,
    "start_time": "2023-08-23T11:54:43.257Z"
   },
   {
    "duration": 8,
    "start_time": "2023-08-23T11:54:43.330Z"
   },
   {
    "duration": 36,
    "start_time": "2023-08-23T11:54:43.339Z"
   },
   {
    "duration": 10,
    "start_time": "2023-08-23T11:54:43.377Z"
   },
   {
    "duration": 454,
    "start_time": "2023-08-23T11:54:43.389Z"
   },
   {
    "duration": 931,
    "start_time": "2023-08-23T11:54:43.846Z"
   },
   {
    "duration": 468,
    "start_time": "2023-08-23T11:54:44.787Z"
   },
   {
    "duration": 18,
    "start_time": "2023-08-23T11:54:45.258Z"
   },
   {
    "duration": 481,
    "start_time": "2023-08-23T11:54:45.278Z"
   },
   {
    "duration": 19,
    "start_time": "2023-08-23T11:54:45.761Z"
   },
   {
    "duration": 389,
    "start_time": "2023-08-23T11:54:45.783Z"
   },
   {
    "duration": 850,
    "start_time": "2023-08-23T11:54:46.174Z"
   },
   {
    "duration": 277,
    "start_time": "2023-08-23T11:54:47.026Z"
   },
   {
    "duration": 16,
    "start_time": "2023-08-23T11:54:47.305Z"
   },
   {
    "duration": 35,
    "start_time": "2023-08-23T11:54:47.323Z"
   },
   {
    "duration": 160,
    "start_time": "2023-08-23T11:54:47.360Z"
   },
   {
    "duration": 17,
    "start_time": "2023-08-23T11:54:47.522Z"
   },
   {
    "duration": 1586,
    "start_time": "2023-08-23T11:54:49.786Z"
   },
   {
    "duration": 7,
    "start_time": "2023-08-23T11:55:08.624Z"
   },
   {
    "duration": 8013,
    "start_time": "2023-08-23T11:55:08.936Z"
   },
   {
    "duration": 1849,
    "start_time": "2023-08-23T12:41:59.002Z"
   },
   {
    "duration": 51,
    "start_time": "2023-08-23T12:42:02.520Z"
   },
   {
    "duration": 12,
    "start_time": "2023-08-23T12:42:05.225Z"
   },
   {
    "duration": 14,
    "start_time": "2023-08-23T12:42:05.699Z"
   },
   {
    "duration": 7,
    "start_time": "2023-08-23T12:42:17.312Z"
   },
   {
    "duration": 496,
    "start_time": "2023-08-23T12:42:18.049Z"
   },
   {
    "duration": 926,
    "start_time": "2023-08-23T12:42:25.360Z"
   },
   {
    "duration": 258,
    "start_time": "2023-08-23T12:42:54.841Z"
   },
   {
    "duration": 11,
    "start_time": "2023-08-23T12:42:57.008Z"
   },
   {
    "duration": 467,
    "start_time": "2023-08-23T12:43:11.833Z"
   },
   {
    "duration": 9,
    "start_time": "2023-08-23T12:43:16.417Z"
   },
   {
    "duration": 347,
    "start_time": "2023-08-23T12:43:20.121Z"
   },
   {
    "duration": 907,
    "start_time": "2023-08-23T12:43:35.305Z"
   },
   {
    "duration": 250,
    "start_time": "2023-08-23T12:43:40.998Z"
   },
   {
    "duration": 5,
    "start_time": "2023-08-23T12:44:09.097Z"
   },
   {
    "duration": 8,
    "start_time": "2023-08-23T12:44:09.640Z"
   },
   {
    "duration": 147,
    "start_time": "2023-08-23T12:44:21.856Z"
   },
   {
    "duration": 30,
    "start_time": "2023-08-23T12:44:24.066Z"
   },
   {
    "duration": 2940,
    "start_time": "2023-08-23T12:44:26.752Z"
   },
   {
    "duration": 374,
    "start_time": "2023-08-23T12:45:22.649Z"
   },
   {
    "duration": 263635,
    "start_time": "2023-08-23T12:46:12.520Z"
   },
   {
    "duration": 72457,
    "start_time": "2023-08-23T12:51:21.366Z"
   },
   {
    "duration": 8,
    "start_time": "2023-08-23T12:52:58.062Z"
   },
   {
    "duration": 10269,
    "start_time": "2023-08-23T12:53:11.799Z"
   },
   {
    "duration": 10,
    "start_time": "2023-08-23T12:53:25.567Z"
   },
   {
    "duration": 9,
    "start_time": "2023-08-23T12:55:44.289Z"
   },
   {
    "duration": 289,
    "start_time": "2023-08-23T13:14:08.794Z"
   },
   {
    "duration": 9,
    "start_time": "2023-08-23T13:25:10.893Z"
   },
   {
    "duration": 78,
    "start_time": "2023-08-23T13:25:10.905Z"
   },
   {
    "duration": 11,
    "start_time": "2023-08-23T13:25:10.987Z"
   },
   {
    "duration": 21,
    "start_time": "2023-08-23T13:25:11.001Z"
   },
   {
    "duration": 9,
    "start_time": "2023-08-23T13:25:11.024Z"
   },
   {
    "duration": 456,
    "start_time": "2023-08-23T13:25:11.034Z"
   },
   {
    "duration": 964,
    "start_time": "2023-08-23T13:25:11.492Z"
   },
   {
    "duration": 272,
    "start_time": "2023-08-23T13:25:12.458Z"
   },
   {
    "duration": 9,
    "start_time": "2023-08-23T13:25:12.733Z"
   },
   {
    "duration": 477,
    "start_time": "2023-08-23T13:25:12.744Z"
   },
   {
    "duration": 8,
    "start_time": "2023-08-23T13:25:13.223Z"
   },
   {
    "duration": 298,
    "start_time": "2023-08-23T13:25:13.233Z"
   },
   {
    "duration": 252,
    "start_time": "2023-08-23T13:25:13.533Z"
   },
   {
    "duration": 6,
    "start_time": "2023-08-23T13:25:13.787Z"
   },
   {
    "duration": 33,
    "start_time": "2023-08-23T13:25:13.799Z"
   },
   {
    "duration": 165,
    "start_time": "2023-08-23T13:25:13.834Z"
   },
   {
    "duration": 17,
    "start_time": "2023-08-23T13:25:14.005Z"
   },
   {
    "duration": 2153,
    "start_time": "2023-08-23T13:25:14.024Z"
   },
   {
    "duration": 5,
    "start_time": "2023-08-23T13:25:26.354Z"
   },
   {
    "duration": 67,
    "start_time": "2023-08-23T13:25:26.361Z"
   },
   {
    "duration": 7,
    "start_time": "2023-08-23T13:25:26.430Z"
   },
   {
    "duration": 52,
    "start_time": "2023-08-23T13:25:26.438Z"
   },
   {
    "duration": 26,
    "start_time": "2023-08-23T13:25:26.493Z"
   },
   {
    "duration": 456,
    "start_time": "2023-08-23T13:25:26.520Z"
   },
   {
    "duration": 965,
    "start_time": "2023-08-23T13:25:26.978Z"
   },
   {
    "duration": 241,
    "start_time": "2023-08-23T13:25:27.946Z"
   },
   {
    "duration": 9,
    "start_time": "2023-08-23T13:25:28.188Z"
   },
   {
    "duration": 429,
    "start_time": "2023-08-23T13:25:28.199Z"
   },
   {
    "duration": 8,
    "start_time": "2023-08-23T13:25:28.630Z"
   },
   {
    "duration": 288,
    "start_time": "2023-08-23T13:25:28.639Z"
   },
   {
    "duration": 257,
    "start_time": "2023-08-23T13:25:28.929Z"
   },
   {
    "duration": 5,
    "start_time": "2023-08-23T13:25:29.189Z"
   },
   {
    "duration": 38,
    "start_time": "2023-08-23T13:25:29.196Z"
   },
   {
    "duration": 159,
    "start_time": "2023-08-23T13:25:29.237Z"
   },
   {
    "duration": 15,
    "start_time": "2023-08-23T13:25:29.398Z"
   },
   {
    "duration": 1756,
    "start_time": "2023-08-23T13:25:29.415Z"
   },
   {
    "duration": 5,
    "start_time": "2023-08-23T13:25:39.870Z"
   },
   {
    "duration": 55,
    "start_time": "2023-08-23T13:25:39.879Z"
   },
   {
    "duration": 8,
    "start_time": "2023-08-23T13:25:39.936Z"
   },
   {
    "duration": 50,
    "start_time": "2023-08-23T13:25:39.947Z"
   },
   {
    "duration": 31,
    "start_time": "2023-08-23T13:25:39.999Z"
   },
   {
    "duration": 560,
    "start_time": "2023-08-23T13:25:40.033Z"
   },
   {
    "duration": 783,
    "start_time": "2023-08-23T13:25:40.595Z"
   },
   {
    "duration": 235,
    "start_time": "2023-08-23T13:25:41.380Z"
   },
   {
    "duration": 9,
    "start_time": "2023-08-23T13:25:41.617Z"
   },
   {
    "duration": 400,
    "start_time": "2023-08-23T13:25:41.628Z"
   },
   {
    "duration": 7,
    "start_time": "2023-08-23T13:25:42.030Z"
   },
   {
    "duration": 288,
    "start_time": "2023-08-23T13:25:42.038Z"
   },
   {
    "duration": 390,
    "start_time": "2023-08-23T13:25:42.328Z"
   },
   {
    "duration": 6,
    "start_time": "2023-08-23T13:25:42.720Z"
   },
   {
    "duration": 15,
    "start_time": "2023-08-23T13:25:42.728Z"
   },
   {
    "duration": 163,
    "start_time": "2023-08-23T13:25:42.745Z"
   },
   {
    "duration": 15,
    "start_time": "2023-08-23T13:25:42.910Z"
   },
   {
    "duration": 1060,
    "start_time": "2023-08-23T13:25:42.928Z"
   },
   {
    "duration": 4,
    "start_time": "2023-08-23T13:25:58.683Z"
   },
   {
    "duration": 53,
    "start_time": "2023-08-23T13:25:58.689Z"
   },
   {
    "duration": 8,
    "start_time": "2023-08-23T13:25:58.744Z"
   },
   {
    "duration": 20,
    "start_time": "2023-08-23T13:25:58.754Z"
   },
   {
    "duration": 11,
    "start_time": "2023-08-23T13:25:58.777Z"
   },
   {
    "duration": 429,
    "start_time": "2023-08-23T13:25:58.790Z"
   },
   {
    "duration": 765,
    "start_time": "2023-08-23T13:25:59.220Z"
   },
   {
    "duration": 252,
    "start_time": "2023-08-23T13:25:59.987Z"
   },
   {
    "duration": 9,
    "start_time": "2023-08-23T13:26:00.241Z"
   },
   {
    "duration": 552,
    "start_time": "2023-08-23T13:26:00.251Z"
   },
   {
    "duration": 8,
    "start_time": "2023-08-23T13:26:00.805Z"
   },
   {
    "duration": 323,
    "start_time": "2023-08-23T13:26:00.815Z"
   },
   {
    "duration": 248,
    "start_time": "2023-08-23T13:26:01.140Z"
   },
   {
    "duration": 5,
    "start_time": "2023-08-23T13:26:01.391Z"
   },
   {
    "duration": 126,
    "start_time": "2023-08-23T13:26:01.398Z"
   },
   {
    "duration": 185,
    "start_time": "2023-08-23T13:26:01.525Z"
   },
   {
    "duration": 16,
    "start_time": "2023-08-23T13:26:01.712Z"
   },
   {
    "duration": 3245,
    "start_time": "2023-08-23T13:26:01.729Z"
   },
   {
    "duration": 340,
    "start_time": "2023-08-23T13:26:12.686Z"
   },
   {
    "duration": 5799,
    "start_time": "2023-08-23T13:26:15.185Z"
   },
   {
    "duration": 67940,
    "start_time": "2023-08-23T13:26:21.587Z"
   },
   {
    "duration": 6,
    "start_time": "2023-08-23T13:29:10.416Z"
   },
   {
    "duration": 8882,
    "start_time": "2023-08-23T13:29:12.153Z"
   },
   {
    "duration": 5,
    "start_time": "2023-08-23T13:29:51.291Z"
   },
   {
    "duration": 56,
    "start_time": "2023-08-23T13:29:51.298Z"
   },
   {
    "duration": 9,
    "start_time": "2023-08-23T13:29:51.356Z"
   },
   {
    "duration": 13,
    "start_time": "2023-08-23T13:29:51.367Z"
   },
   {
    "duration": 36,
    "start_time": "2023-08-23T13:29:51.383Z"
   },
   {
    "duration": 401,
    "start_time": "2023-08-23T13:29:51.421Z"
   },
   {
    "duration": 767,
    "start_time": "2023-08-23T13:29:51.824Z"
   },
   {
    "duration": 362,
    "start_time": "2023-08-23T13:29:52.593Z"
   },
   {
    "duration": 14,
    "start_time": "2023-08-23T13:29:52.957Z"
   },
   {
    "duration": 432,
    "start_time": "2023-08-23T13:29:52.973Z"
   },
   {
    "duration": 9,
    "start_time": "2023-08-23T13:29:53.407Z"
   },
   {
    "duration": 286,
    "start_time": "2023-08-23T13:29:53.419Z"
   },
   {
    "duration": 261,
    "start_time": "2023-08-23T13:29:53.707Z"
   },
   {
    "duration": 6,
    "start_time": "2023-08-23T13:29:53.971Z"
   },
   {
    "duration": 18,
    "start_time": "2023-08-23T13:29:53.979Z"
   },
   {
    "duration": 190,
    "start_time": "2023-08-23T13:29:54.000Z"
   },
   {
    "duration": 17,
    "start_time": "2023-08-23T13:29:54.193Z"
   },
   {
    "duration": 764,
    "start_time": "2023-08-23T13:29:54.212Z"
   },
   {
    "duration": 5,
    "start_time": "2023-08-23T13:30:03.092Z"
   },
   {
    "duration": 64,
    "start_time": "2023-08-23T13:30:03.099Z"
   },
   {
    "duration": 9,
    "start_time": "2023-08-23T13:30:03.166Z"
   },
   {
    "duration": 60,
    "start_time": "2023-08-23T13:30:03.177Z"
   },
   {
    "duration": 11,
    "start_time": "2023-08-23T13:30:03.240Z"
   },
   {
    "duration": 436,
    "start_time": "2023-08-23T13:30:03.253Z"
   },
   {
    "duration": 949,
    "start_time": "2023-08-23T13:30:03.691Z"
   },
   {
    "duration": 276,
    "start_time": "2023-08-23T13:30:04.643Z"
   },
   {
    "duration": 8,
    "start_time": "2023-08-23T13:30:04.921Z"
   },
   {
    "duration": 477,
    "start_time": "2023-08-23T13:30:04.932Z"
   },
   {
    "duration": 14,
    "start_time": "2023-08-23T13:30:05.412Z"
   },
   {
    "duration": 295,
    "start_time": "2023-08-23T13:30:05.428Z"
   },
   {
    "duration": 244,
    "start_time": "2023-08-23T13:30:05.725Z"
   },
   {
    "duration": 5,
    "start_time": "2023-08-23T13:30:05.972Z"
   },
   {
    "duration": 159,
    "start_time": "2023-08-23T13:30:05.979Z"
   },
   {
    "duration": 143,
    "start_time": "2023-08-23T13:30:06.139Z"
   },
   {
    "duration": 19,
    "start_time": "2023-08-23T13:30:06.285Z"
   },
   {
    "duration": 564,
    "start_time": "2023-08-23T13:30:06.306Z"
   },
   {
    "duration": 63747,
    "start_time": "2023-08-23T13:30:16.934Z"
   },
   {
    "duration": 8,
    "start_time": "2023-08-23T13:31:30.335Z"
   },
   {
    "duration": 7329,
    "start_time": "2023-08-23T13:31:30.928Z"
   },
   {
    "duration": 1799,
    "start_time": "2023-08-23T13:32:28.324Z"
   },
   {
    "duration": 52,
    "start_time": "2023-08-23T13:32:30.125Z"
   },
   {
    "duration": 33,
    "start_time": "2023-08-23T13:32:30.183Z"
   },
   {
    "duration": 120,
    "start_time": "2023-08-23T13:32:30.219Z"
   },
   {
    "duration": 45,
    "start_time": "2023-08-23T13:32:30.342Z"
   },
   {
    "duration": 499,
    "start_time": "2023-08-23T13:32:30.390Z"
   },
   {
    "duration": 872,
    "start_time": "2023-08-23T13:32:30.891Z"
   },
   {
    "duration": 247,
    "start_time": "2023-08-23T13:32:31.768Z"
   },
   {
    "duration": 9,
    "start_time": "2023-08-23T13:32:32.019Z"
   },
   {
    "duration": 562,
    "start_time": "2023-08-23T13:32:32.031Z"
   },
   {
    "duration": 9,
    "start_time": "2023-08-23T13:32:32.595Z"
   },
   {
    "duration": 324,
    "start_time": "2023-08-23T13:32:32.608Z"
   },
   {
    "duration": 343,
    "start_time": "2023-08-23T13:32:32.935Z"
   },
   {
    "duration": 6,
    "start_time": "2023-08-23T13:32:33.280Z"
   },
   {
    "duration": 17,
    "start_time": "2023-08-23T13:32:33.289Z"
   },
   {
    "duration": 183,
    "start_time": "2023-08-23T13:32:33.308Z"
   },
   {
    "duration": 27,
    "start_time": "2023-08-23T13:32:33.494Z"
   },
   {
    "duration": 1549,
    "start_time": "2023-08-23T13:32:33.526Z"
   },
   {
    "duration": 603,
    "start_time": "2023-08-23T13:32:35.078Z"
   },
   {
    "duration": 240496,
    "start_time": "2023-08-23T13:32:35.684Z"
   },
   {
    "duration": 63546,
    "start_time": "2023-08-23T13:36:36.183Z"
   },
   {
    "duration": 8,
    "start_time": "2023-08-23T13:37:39.731Z"
   },
   {
    "duration": 7499,
    "start_time": "2023-08-23T13:37:39.742Z"
   },
   {
    "duration": 5,
    "start_time": "2023-08-23T13:37:47.243Z"
   }
  ],
  "kernelspec": {
   "display_name": "Python 3 (ipykernel)",
   "language": "python",
   "name": "python3"
  },
  "language_info": {
   "codemirror_mode": {
    "name": "ipython",
    "version": 3
   },
   "file_extension": ".py",
   "mimetype": "text/x-python",
   "name": "python",
   "nbconvert_exporter": "python",
   "pygments_lexer": "ipython3",
   "version": "3.11.5"
  },
  "toc": {
   "base_numbering": 1,
   "nav_menu": {},
   "number_sections": true,
   "sideBar": true,
   "skip_h1_title": true,
   "title_cell": "Содержание",
   "title_sidebar": "Contents",
   "toc_cell": true,
   "toc_position": {},
   "toc_section_display": true,
   "toc_window_display": false
  }
 },
 "nbformat": 4,
 "nbformat_minor": 2
}
